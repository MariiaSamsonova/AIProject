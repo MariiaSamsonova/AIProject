{
  "nbformat": 4,
  "nbformat_minor": 0,
  "metadata": {
    "colab": {
      "name": "Untitled",
      "provenance": [],
      "collapsed_sections": [],
      "authorship_tag": "ABX9TyO8eLNMfoLgHLtHjIN5CJZt",
      "include_colab_link": true
    },
    "kernelspec": {
      "name": "python3",
      "display_name": "Python 3"
    },
    "language_info": {
      "name": "python"
    }
  },
  "cells": [
    {
      "cell_type": "markdown",
      "metadata": {
        "id": "view-in-github",
        "colab_type": "text"
      },
      "source": [
        "<a href=\"https://colab.research.google.com/github/MariiaSamsonova/AIProject/blob/main/Untitled.ipynb\" target=\"_parent\"><img src=\"https://colab.research.google.com/assets/colab-badge.svg\" alt=\"Open In Colab\"/></a>"
      ]
    },
    {
      "cell_type": "code",
      "execution_count": 1,
      "metadata": {
        "colab": {
          "base_uri": "https://localhost:8080/"
        },
        "id": "Ook24E2z5u3Y",
        "outputId": "2b31ca66-0b42-458a-9e72-567d072bef84"
      },
      "outputs": [
        {
          "output_type": "stream",
          "name": "stderr",
          "text": [
            "/usr/local/lib/python3.7/dist-packages/IPython/core/interactiveshell.py:2882: DtypeWarning: Columns (1,2,6,7,9,10,12,13,14,15,16,17,18,19,21,22,23,24,25,26,30,32) have mixed types.Specify dtype option on import or set low_memory=False.\n",
            "  exec(code_obj, self.user_global_ns, self.user_ns)\n"
          ]
        }
      ],
      "source": [
        "from csv import reader\n",
        "import pandas as pd\n",
        "#read csv file\n",
        "df = pd.read_csv('latestdata.csv', on_bad_lines='skip')\n",
        "nan = df['sequence_available'].head(1)[0] #nan value"
      ]
    },
    {
      "cell_type": "code",
      "source": [
        "df.info()                         #Dtype\n",
        "df.isna().mean().sort_values()    #nan value part"
      ],
      "metadata": {
        "colab": {
          "base_uri": "https://localhost:8080/"
        },
        "id": "okXyfuld6E6i",
        "outputId": "8ad5af7f-5e94-4251-982e-e8640faedd3d"
      },
      "execution_count": 2,
      "outputs": [
        {
          "output_type": "stream",
          "name": "stdout",
          "text": [
            "<class 'pandas.core.frame.DataFrame'>\n",
            "RangeIndex: 3923272 entries, 0 to 3923271\n",
            "Data columns (total 33 columns):\n",
            " #   Column                    Dtype \n",
            "---  ------                    ----- \n",
            " 0   ID                        object\n",
            " 1   age                       object\n",
            " 2   sex                       object\n",
            " 3   city                      object\n",
            " 4   province                  object\n",
            " 5   country                   object\n",
            " 6   latitude                  object\n",
            " 7   longitude                 object\n",
            " 8   geo_resolution            object\n",
            " 9   date_onset_symptoms       object\n",
            " 10  date_admission_hospital   object\n",
            " 11  date_confirmation         object\n",
            " 12  symptoms                  object\n",
            " 13  lives_in_Wuhan            object\n",
            " 14  travel_history_dates      object\n",
            " 15  travel_history_location   object\n",
            " 16  reported_market_exposure  object\n",
            " 17  additional_information    object\n",
            " 18  chronic_disease_binary    object\n",
            " 19  chronic_disease           object\n",
            " 20  source                    object\n",
            " 21  sequence_available        object\n",
            " 22  outcome                   object\n",
            " 23  date_death_or_discharge   object\n",
            " 24  notes_for_discussion      object\n",
            " 25  location                  object\n",
            " 26  admin3                    object\n",
            " 27  admin2                    object\n",
            " 28  admin1                    object\n",
            " 29  country_new               object\n",
            " 30  admin_id                  object\n",
            " 31  data_moderator_initials   object\n",
            " 32  travel_history_binary     object\n",
            "dtypes: object(33)\n",
            "memory usage: 987.8+ MB\n"
          ]
        },
        {
          "output_type": "execute_result",
          "data": {
            "text/plain": [
              "ID                          2.548893e-07\n",
              "latitude                    4.409585e-05\n",
              "chronic_disease_binary      4.689963e-05\n",
              "longitude                   4.868385e-05\n",
              "geo_resolution              5.454631e-05\n",
              "country                     5.480120e-05\n",
              "admin_id                    9.532859e-05\n",
              "country_new                 1.161250e-02\n",
              "travel_history_binary       1.679516e-02\n",
              "date_confirmation           5.503340e-02\n",
              "province                    1.106854e-01\n",
              "source                      1.570324e-01\n",
              "data_moderator_initials     3.143511e-01\n",
              "city                        3.493120e-01\n",
              "admin1                      4.339791e-01\n",
              "admin2                      6.295047e-01\n",
              "sex                         8.345560e-01\n",
              "age                         8.358482e-01\n",
              "outcome                     8.919295e-01\n",
              "date_onset_symptoms         8.943369e-01\n",
              "date_admission_hospital     9.448142e-01\n",
              "admin3                      9.780604e-01\n",
              "additional_information      9.843977e-01\n",
              "location                    9.952313e-01\n",
              "travel_history_location     9.966220e-01\n",
              "lives_in_Wuhan              9.981814e-01\n",
              "travel_history_dates        9.990011e-01\n",
              "symptoms                    9.993714e-01\n",
              "date_death_or_discharge     9.995134e-01\n",
              "reported_market_exposure    9.995695e-01\n",
              "notes_for_discussion        9.998127e-01\n",
              "chronic_disease             9.999087e-01\n",
              "sequence_available          9.999750e-01\n",
              "dtype: float64"
            ]
          },
          "metadata": {},
          "execution_count": 2
        }
      ]
    },
    {
      "cell_type": "markdown",
      "source": [
        "**age**\n",
        "\n"
      ],
      "metadata": {
        "id": "aGC73i2RwmJv"
      }
    },
    {
      "cell_type": "markdown",
      "source": [
        ""
      ],
      "metadata": {
        "id": "k-hiptdBwwBQ"
      }
    },
    {
      "cell_type": "code",
      "source": [
        "import numpy as np\n",
        "\n",
        "def convert_age(x):\n",
        "  try:\n",
        "    if x[-1] == '+':\n",
        "      return float(x[:-1])\n",
        "  except:\n",
        "    try:\n",
        "      age = float(str(x))\n",
        "      if age < 200:\n",
        "        return age\n",
        "    except ValueError:\n",
        "      try:\n",
        "        age_range = x.split('-')\n",
        "        return (float(str(age_range[0])) + float(str(age_range[0])))/2\n",
        "      except:\n",
        "        return nan\n",
        "  return nan\n",
        "\n",
        "df['age'] = df['age'].apply(convert_age)      #do age as type float\n",
        "df['age'].describe().round(1)"
      ],
      "metadata": {
        "colab": {
          "base_uri": "https://localhost:8080/"
        },
        "id": "jNjL13C6M0wB",
        "outputId": "0309cd2f-1a25-46d5-e3e6-1b9a5fb7f05e"
      },
      "execution_count": 3,
      "outputs": [
        {
          "output_type": "execute_result",
          "data": {
            "text/plain": [
              "count    52675.0\n",
              "mean        82.1\n",
              "std          5.0\n",
              "min          1.0\n",
              "25%         80.0\n",
              "50%         80.0\n",
              "75%         80.0\n",
              "max         90.0\n",
              "Name: age, dtype: float64"
            ]
          },
          "metadata": {},
          "execution_count": 3
        }
      ]
    },
    {
      "cell_type": "markdown",
      "source": [
        "**sex**"
      ],
      "metadata": {
        "id": "JEME8dw3w1vI"
      }
    },
    {
      "cell_type": "code",
      "source": [
        "df = df.loc[df['sex'].isin(['female', 'male', 'mal', nan])]   #delete corrupted data\n",
        "df['sex'] = df['sex'].replace(to_replace =\"mal\", value =\"male\")\n",
        "df['sex'].value_counts(dropna=False)"
      ],
      "metadata": {
        "colab": {
          "base_uri": "https://localhost:8080/"
        },
        "id": "3x8LHiFciiUD",
        "outputId": "24e2c751-439d-43f1-d3eb-a3c73b3dcf0c"
      },
      "execution_count": 4,
      "outputs": [
        {
          "output_type": "stream",
          "name": "stderr",
          "text": [
            "/usr/local/lib/python3.7/dist-packages/ipykernel_launcher.py:2: SettingWithCopyWarning: \n",
            "A value is trying to be set on a copy of a slice from a DataFrame.\n",
            "Try using .loc[row_indexer,col_indexer] = value instead\n",
            "\n",
            "See the caveats in the documentation: https://pandas.pydata.org/pandas-docs/stable/user_guide/indexing.html#returning-a-view-versus-a-copy\n",
            "  \n"
          ]
        },
        {
          "output_type": "execute_result",
          "data": {
            "text/plain": [
              "NaN       3274190\n",
              "female     332330\n",
              "male       316732\n",
              "Name: sex, dtype: int64"
            ]
          },
          "metadata": {},
          "execution_count": 4
        }
      ]
    },
    {
      "cell_type": "markdown",
      "source": [
        "**city, province, country**"
      ],
      "metadata": {
        "id": "3lUBYVh-w7fd"
      }
    },
    {
      "cell_type": "code",
      "source": [
        "df['city'].describe()"
      ],
      "metadata": {
        "colab": {
          "base_uri": "https://localhost:8080/"
        },
        "id": "lck6uWuFm-gN",
        "outputId": "3f560090-8b00-49ee-a1e1-4925d5759595"
      },
      "execution_count": 5,
      "outputs": [
        {
          "output_type": "execute_result",
          "data": {
            "text/plain": [
              "count     2552815\n",
              "unique       6929\n",
              "top        Moscow\n",
              "freq       298934\n",
              "Name: city, dtype: object"
            ]
          },
          "metadata": {},
          "execution_count": 5
        }
      ]
    },
    {
      "cell_type": "code",
      "source": [
        "df['province'].describe()"
      ],
      "metadata": {
        "colab": {
          "base_uri": "https://localhost:8080/"
        },
        "id": "LC81S0DVA0c1",
        "outputId": "a8d3bcec-bccb-4b87-a99b-913e4498162b"
      },
      "execution_count": 6,
      "outputs": [
        {
          "output_type": "execute_result",
          "data": {
            "text/plain": [
              "count     3489016\n",
              "unique       1066\n",
              "top       Central\n",
              "freq       413346\n",
              "Name: province, dtype: object"
            ]
          },
          "metadata": {},
          "execution_count": 6
        }
      ]
    },
    {
      "cell_type": "code",
      "source": [
        "df['country'].describe()"
      ],
      "metadata": {
        "colab": {
          "base_uri": "https://localhost:8080/"
        },
        "id": "IrWJXKDEA3Ub",
        "outputId": "c5c5abf0-a508-42c8-b178-0f60a2876655"
      },
      "execution_count": 7,
      "outputs": [
        {
          "output_type": "execute_result",
          "data": {
            "text/plain": [
              "count     3923048\n",
              "unique        183\n",
              "top        Russia\n",
              "freq       596556\n",
              "Name: country, dtype: object"
            ]
          },
          "metadata": {},
          "execution_count": 7
        }
      ]
    },
    {
      "cell_type": "markdown",
      "source": [
        "\n",
        "**latitude, longitude**"
      ],
      "metadata": {
        "id": "f2g-DqKqxMMV"
      }
    },
    {
      "cell_type": "code",
      "source": [
        "def convert_coordinates(x):\n",
        "  try:\n",
        "    return float(x)\n",
        "  except:\n",
        "    return nan\n",
        "\n",
        "df['latitude'] = df['latitude'].apply(convert_coordinates)   # do latitude as type float\n",
        "df['longitude'] = df['longitude'].apply(convert_coordinates) # do longitude as type float\n",
        "\n",
        "df['latitude'].describe()"
      ],
      "metadata": {
        "colab": {
          "base_uri": "https://localhost:8080/"
        },
        "id": "nBHyxA8go1pM",
        "outputId": "985b0d02-fd57-49e0-edd6-721e9a15966a"
      },
      "execution_count": 8,
      "outputs": [
        {
          "output_type": "execute_result",
          "data": {
            "text/plain": [
              "count    3.923061e+06\n",
              "mean     4.307859e+01\n",
              "std      3.001346e+01\n",
              "min     -5.400000e+01\n",
              "25%      3.959343e+01\n",
              "50%      4.546589e+01\n",
              "75%      5.226544e+01\n",
              "max      5.240600e+04\n",
              "Name: latitude, dtype: float64"
            ]
          },
          "metadata": {},
          "execution_count": 8
        }
      ]
    },
    {
      "cell_type": "code",
      "source": [
        "df['longitude'].describe()"
      ],
      "metadata": {
        "colab": {
          "base_uri": "https://localhost:8080/"
        },
        "id": "M-ePcK5JA-_u",
        "outputId": "739601a1-3058-4a7d-a3da-9c7eeac32379"
      },
      "execution_count": 9,
      "outputs": [
        {
          "output_type": "execute_result",
          "data": {
            "text/plain": [
              "count    3.923026e+06\n",
              "mean     1.556198e+01\n",
              "std      4.313646e+01\n",
              "min     -1.597276e+02\n",
              "25%     -5.769000e-01\n",
              "50%      9.994373e+00\n",
              "75%      3.761730e+01\n",
              "max      1.205100e+04\n",
              "Name: longitude, dtype: float64"
            ]
          },
          "metadata": {},
          "execution_count": 9
        }
      ]
    },
    {
      "cell_type": "markdown",
      "source": [
        "**geo_resolution**"
      ],
      "metadata": {
        "id": "rU5eHbJMxY3q"
      }
    },
    {
      "cell_type": "code",
      "source": [
        "df = df.loc[df['geo_resolution'].isin(['point', 'admin2', 'admin1', 'admin0', 'admin3', nan])]  #drop inappropriate data\n",
        "df['geo_resolution'].value_counts(dropna=False)"
      ],
      "metadata": {
        "colab": {
          "base_uri": "https://localhost:8080/"
        },
        "id": "P-floYUZq97t",
        "outputId": "c8daf4b4-96ac-4aa5-b7bd-c24e2a8cce18"
      },
      "execution_count": 10,
      "outputs": [
        {
          "output_type": "execute_result",
          "data": {
            "text/plain": [
              "admin2    1412449\n",
              "point     1282184\n",
              "admin1     710671\n",
              "admin0     431630\n",
              "admin3      85913\n",
              "NaN           198\n",
              "Name: geo_resolution, dtype: int64"
            ]
          },
          "metadata": {},
          "execution_count": 10
        }
      ]
    },
    {
      "cell_type": "markdown",
      "source": [
        "**dates**"
      ],
      "metadata": {
        "id": "B5KewKMx3c_Q"
      }
    },
    {
      "cell_type": "code",
      "source": [
        "#convent to date type\n",
        "\n",
        "def convent_to_date_type(x):\n",
        "  if x != nan:\n",
        "    try:\n",
        "      return pd.to_datetime(x, format=\"%d.%m.%Y\")\n",
        "    except:\n",
        "      return nan\n"
      ],
      "metadata": {
        "id": "5TBMPBEJrXpY"
      },
      "execution_count": 29,
      "outputs": []
    },
    {
      "cell_type": "code",
      "source": [
        "df['date_onset_symptoms'] = df['date_onset_symptoms'].apply(convent_to_date_type)\n",
        "df['date_onset_symptoms'].describe(datetime_is_numeric=True)"
      ],
      "metadata": {
        "id": "fNwHsjxnPheQ"
      },
      "execution_count": null,
      "outputs": []
    },
    {
      "cell_type": "code",
      "source": [
        "df['date_admission_hospital'] = df['date_admission_hospital'].apply(convent_to_date_type)\n",
        "df['date_admission_hospital'].describe(datetime_is_numeric=True)"
      ],
      "metadata": {
        "id": "zPNFFIlOO9qd"
      },
      "execution_count": null,
      "outputs": []
    },
    {
      "cell_type": "code",
      "source": [
        "df['date_confirmation'] = df['date_confirmation'].apply(convent_to_date_type)\n",
        "df['date_confirmation'].describe(datetime_is_numeric=True)"
      ],
      "metadata": {
        "id": "mviNIGcpPAmr"
      },
      "execution_count": null,
      "outputs": []
    },
    {
      "cell_type": "code",
      "source": [
        "df['travel_history_dates'] = df['travel_history_dates'].apply(convent_to_date_type)\n",
        "df['travel_history_dates'].describe(datetime_is_numeric=True)"
      ],
      "metadata": {
        "id": "_KmY_x-DIK1d"
      },
      "execution_count": null,
      "outputs": []
    },
    {
      "cell_type": "code",
      "source": [
        "df['date_death_or_discharge'] = df['date_death_or_discharge'].apply(convent_to_date_type)\n",
        "df['date_death_or_discharge'].describe(datetime_is_numeric=True)"
      ],
      "metadata": {
        "id": "6VhUgCWWIMTk"
      },
      "execution_count": null,
      "outputs": []
    },
    {
      "cell_type": "code",
      "source": [
        "df['date_moderator_initials'] = df['date_moderator_initials'].apply(convent_to_date_type)\n",
        "df['date_moderator_initials'].describe(datetime_is_numeric=True)"
      ],
      "metadata": {
        "id": "HxdQ0WRCISFh"
      },
      "execution_count": null,
      "outputs": []
    },
    {
      "cell_type": "markdown",
      "source": [
        "**symptoms**"
      ],
      "metadata": {
        "id": "2XqmGt5N3sbZ"
      }
    },
    {
      "cell_type": "code",
      "source": [
        "df['symptoms'].value_counts(dropna=False)"
      ],
      "metadata": {
        "colab": {
          "base_uri": "https://localhost:8080/"
        },
        "id": "a344EFsHsPL9",
        "outputId": "5c8defd3-b5ba-485e-f184-6ec0de6411e3"
      },
      "execution_count": 12,
      "outputs": [
        {
          "output_type": "execute_result",
          "data": {
            "text/plain": [
              "NaN                                                          3920595\n",
              "fever                                                            374\n",
              "Mild to moderate                                                 257\n",
              "cough, fever                                                     168\n",
              "Mild:moderate                                                    128\n",
              "                                                              ...   \n",
              "fever:cough                                                        1\n",
              "cough:sore throat:colds                                            1\n",
              "cough:body malaise                                                 1\n",
              "fever:cough:shortness of breath                                    1\n",
              "https://www.worldometers.info/coronavirus/country/turkey/          1\n",
              "Name: symptoms, Length: 481, dtype: int64"
            ]
          },
          "metadata": {},
          "execution_count": 12
        }
      ]
    },
    {
      "cell_type": "markdown",
      "source": [
        "**lives_in_Wuhan**"
      ],
      "metadata": {
        "id": "vlGxMKop33jN"
      }
    },
    {
      "cell_type": "code",
      "source": [
        "df = df.loc[df['lives_in_Wuhan'].isin(['no', 'yes', 'False', False, 'TR', nan])]  #drop inappropriate data\n",
        "\n",
        "def convert_lives_in_Wuhan(x):\n",
        "  if (str(x) == 'yes') | (str(x) == 'TR'):\n",
        "    return True\n",
        "  elif (str(x) == 'False') | (bool(x) == False) | (str(x) == 'no'):\n",
        "    return False\n",
        "  return nan\n",
        "\n",
        "df['lives_in_Wuhan'] = df['lives_in_Wuhan'].apply(convert_lives_in_Wuhan) #do as bool type\n",
        "df['lives_in_Wuhan'].value_counts(dropna=False)"
      ],
      "metadata": {
        "colab": {
          "base_uri": "https://localhost:8080/"
        },
        "id": "5AT4QZL-vRCd",
        "outputId": "dfab5fba-79d5-4557-d4dd-dff5fa2225be"
      },
      "execution_count": 14,
      "outputs": [
        {
          "output_type": "execute_result",
          "data": {
            "text/plain": [
              "NaN      3915914\n",
              "False       6402\n",
              "True         683\n",
              "Name: lives_in_Wuhan, dtype: int64"
            ]
          },
          "metadata": {},
          "execution_count": 14
        }
      ]
    },
    {
      "cell_type": "markdown",
      "source": [
        "**travel_history_location**"
      ],
      "metadata": {
        "id": "UuaKEAEG4c7-"
      }
    },
    {
      "cell_type": "code",
      "source": [
        "df['travel_history_location'].value_counts(dropna=False)"
      ],
      "metadata": {
        "colab": {
          "base_uri": "https://localhost:8080/"
        },
        "id": "hvhShfwBwdQH",
        "outputId": "f7087d60-7249-497d-c112-2b38acfa21f9"
      },
      "execution_count": 15,
      "outputs": [
        {
          "output_type": "execute_result",
          "data": {
            "text/plain": [
              "NaN                    3909800\n",
              "USA                       2034\n",
              "Spain                     1666\n",
              "Italy                     1007\n",
              "Wuhan City, Hubei          948\n",
              "                        ...   \n",
              "Malawi                       1\n",
              "Lebanon                      1\n",
              "Germany; Belgium             1\n",
              "Cote d'Ivoire; Togo          1\n",
              "Wales                        1\n",
              "Name: travel_history_location, Length: 789, dtype: int64"
            ]
          },
          "metadata": {},
          "execution_count": 15
        }
      ]
    },
    {
      "cell_type": "markdown",
      "source": [
        "**reported_market_exposure**"
      ],
      "metadata": {
        "id": "2i66eWBG4kTm"
      }
    },
    {
      "cell_type": "code",
      "source": [
        "df = df.loc[df['reported_market_exposure'].isin(['na', 'no', 'False', False, 'yes', 'TR', nan])]  #drop inappropriate data\n",
        "\n",
        "def convert_reported_market_exposure(x):\n",
        "  if (str(x) == 'yes') | (str(x) == 'TR'):\n",
        "    return True\n",
        "  elif (str(x) == 'False') | (bool(x) == False) | (str(x) == 'na') | (str(x) == 'no'):\n",
        "    return False\n",
        "  return nan\n",
        "\n",
        "df['reported_market_exposure'] = df['reported_market_exposure'].apply(convert_reported_market_exposure) #do as bool type\n",
        "df['reported_market_exposure'].value_counts(dropna=False)"
      ],
      "metadata": {
        "colab": {
          "base_uri": "https://localhost:8080/"
        },
        "id": "TnjADsEG1gG1",
        "outputId": "7d9a62ba-3375-44e3-e500-a76af9540145"
      },
      "execution_count": 17,
      "outputs": [
        {
          "output_type": "execute_result",
          "data": {
            "text/plain": [
              "NaN      3921343\n",
              "False       1615\n",
              "True          10\n",
              "Name: reported_market_exposure, dtype: int64"
            ]
          },
          "metadata": {},
          "execution_count": 17
        }
      ]
    },
    {
      "cell_type": "markdown",
      "source": [
        "**aditional_information**"
      ],
      "metadata": {
        "id": "lM-oyfTv6Z-o"
      }
    },
    {
      "cell_type": "code",
      "source": [
        "df['additional_information'].value_counts(dropna=False)"
      ],
      "metadata": {
        "colab": {
          "base_uri": "https://localhost:8080/"
        },
        "id": "NGG-xDxB1oqE",
        "outputId": "94cdbe6c-fafe-47ba-bf08-36073b58cf5f"
      },
      "execution_count": 18,
      "outputs": [
        {
          "output_type": "execute_result",
          "data": {
            "text/plain": [
              "NaN                                3861815\n",
              "Previous confirmed case contact       1748\n",
              "Reconciled from MOHFW Table           1098\n",
              "Travelled from Maharashtra            1076\n",
              "Back-dated update                     1034\n",
              "                                    ...   \n",
              "C550467                                  1\n",
              "C551405                                  1\n",
              "C551852                                  1\n",
              "C565143                                  1\n",
              "C305864                                  1\n",
              "Name: additional_information, Length: 26724, dtype: int64"
            ]
          },
          "metadata": {},
          "execution_count": 18
        }
      ]
    },
    {
      "cell_type": "markdown",
      "source": [
        "**chronic_disease_binary**"
      ],
      "metadata": {
        "id": "fZYnu_it6qew"
      }
    },
    {
      "cell_type": "code",
      "source": [
        "def convert_chronic_disease_binary(x):\n",
        "  if (str(x) == 'True') | (bool(x) == True) | (str(x) == 'TR'):\n",
        "    return True\n",
        "  elif (str(x) == 'False') | (bool(x) == False) | (str(x) == 'F') | (str(x) == 'Falue') | (str(x) == 'Flse') | (str(x) == 'Falsue'):\n",
        "    return False\n",
        "  return nan\n",
        "\n",
        "df = df.loc[df['chronic_disease_binary'].isin(['True', 'TR', True, 'F', 'False', False, 'Falue', 'Flse', nan, 'Falsue'])]\n",
        "df['chronic_disease_binary'] = df['chronic_disease_binary'].apply(convert_chronic_disease_binary) #do bool\n",
        "df['chronic_disease_binary'].value_counts(dropna=False)"
      ],
      "metadata": {
        "colab": {
          "base_uri": "https://localhost:8080/"
        },
        "id": "WogSj8nH6kBv",
        "outputId": "df299bca-c9f4-4452-8b26-5349a702090a"
      },
      "execution_count": 19,
      "outputs": [
        {
          "output_type": "execute_result",
          "data": {
            "text/plain": [
              "False    2956092\n",
              "True      966847\n",
              "Name: chronic_disease_binary, dtype: int64"
            ]
          },
          "metadata": {},
          "execution_count": 19
        }
      ]
    },
    {
      "cell_type": "markdown",
      "source": [
        "**chronic_disease**"
      ],
      "metadata": {
        "id": "nsk-oqOw7cwV"
      }
    },
    {
      "cell_type": "code",
      "source": [
        "df['chronic_disease'].value_counts(dropna=False)"
      ],
      "metadata": {
        "colab": {
          "base_uri": "https://localhost:8080/"
        },
        "id": "Zwo09gCl10rN",
        "outputId": "98654973-8fd5-4283-90aa-210689b19abe"
      },
      "execution_count": 20,
      "outputs": [
        {
          "output_type": "execute_result",
          "data": {
            "text/plain": [
              "NaN                                                                                 3922628\n",
              "https://coronavirus.dc.gov/page/coronavirus-data                                         96\n",
              "https://cv.nmhealth.org/2020/03/25/updated-new-mexico-covid-19-cases-now-at-112/         24\n",
              "hypertension                                                                             21\n",
              "hypertension:diabetes                                                                    10\n",
              "                                                                                     ...   \n",
              "Pre-renal azotemia:cardiomyopathy:hypertension:diabetes                                   1\n",
              "Chronic kidney disease:hypertension                                                       1\n",
              "diabetes:hypertenstion:upper git bleeding                                                 1\n",
              "diabetes:hypertension:chronic kidney disease                                              1\n",
              "https://www.worldometers.info/coronavirus/country/turkey/                                 1\n",
              "Name: chronic_disease, Length: 101, dtype: int64"
            ]
          },
          "metadata": {},
          "execution_count": 20
        }
      ]
    },
    {
      "cell_type": "markdown",
      "source": [
        "**source**"
      ],
      "metadata": {
        "id": "GFhGbcoT7iYl"
      }
    },
    {
      "cell_type": "code",
      "source": [
        "df['source'].value_counts(dropna=False)"
      ],
      "metadata": {
        "colab": {
          "base_uri": "https://localhost:8080/"
        },
        "id": "9WYZyp7f1-L5",
        "outputId": "aa5d7527-89d5-47ca-e9e4-c8b36685648b"
      },
      "execution_count": 21,
      "outputs": [
        {
          "output_type": "execute_result",
          "data": {
            "text/plain": [
              "NaN                                                                                                                                                              615788\n",
              "https://raw.githubusercontent.com/datadista/datasets/master/COVID%2019/ccaa_covid19_casos_long.csv                                                               473567\n",
              "stopcoronavirus.rf                                                                                                                                               396056\n",
              "https://coronavirus.data.gov.uk/                                                                                                                                 218480\n",
              "https://www.data.gouv.fr/fr/datasets/donnees-hospitalieres-relatives-a-lepidemie-de-covid-19/#_                                                                  200063\n",
              "                                                                                                                                                                  ...  \n",
              "https://kannada.asianetnews.com/state/coronavirus-positive-case-founded-at-mysuru-total-rise-to-20-in-karnataka-q7jo5i                                                1\n",
              "https://www.hindustantimes.com/cities/23-year-old-woman-in-sonepat-tests-positive-for-coronavirus/story-2HQJGTajtXM9tRF42Vp8PJ.html                                   1\n",
              "https://twitter.com/PTI_News/status/1241377636317708288                                                                                                               1\n",
              "https://www.indiatoday.in/india/story/novel-coronavirus-covid19-india-live-updates-latest-news-developments-confirmed-positive-cases-1658051-2020-03-21#60619         1\n",
              "https://public.tableau.com/profile/public.health.w28.0                                                                                                                1\n",
              "Name: source, Length: 12346, dtype: int64"
            ]
          },
          "metadata": {},
          "execution_count": 21
        }
      ]
    },
    {
      "cell_type": "markdown",
      "source": [
        "**sequence_available**"
      ],
      "metadata": {
        "id": "fhE6dQpO7onf"
      }
    },
    {
      "cell_type": "code",
      "source": [
        "df['sequence_available'].value_counts(dropna=False) #questinable data"
      ],
      "metadata": {
        "colab": {
          "base_uri": "https://localhost:8080/"
        },
        "id": "c8CelUYi2ETV",
        "outputId": "e3afc3fb-d1d9-4313-ba85-4533e208582e"
      },
      "execution_count": 22,
      "outputs": [
        {
          "output_type": "execute_result",
          "data": {
            "text/plain": [
              "NaN                                       3922866\n",
              "10.03.2020                                      8\n",
              "United States                                   5\n",
              "TR                                              5\n",
              "yes                                             4\n",
              "Egypt                                           3\n",
              "6345.0                                          3\n",
              "yes, BetaCoV/Mexico/CDMX/InDRE_01/2020          3\n",
              "Germany                                         2\n",
              "228.0                                           2\n",
              "12051.0                                         2\n",
              "Sweden                                          2\n",
              "7652.0                                          2\n",
              "577.0                                           2\n",
              "Mexico                                          2\n",
              "02.03.2020                                      2\n",
              "28.02.2020                                      2\n",
              "544.0                                           1\n",
              "Lombardia                                       1\n",
              "Turkey                                          1\n",
              "413.0                                           1\n",
              "Nigeria                                         1\n",
              "Scotland                                        1\n",
              "False                                           1\n",
              "Val-de-Marne                                    1\n",
              "6322.0                                          1\n",
              "France                                          1\n",
              "Spain                                           1\n",
              "2414.0                                          1\n",
              "8859.0                                          1\n",
              "12218.0                                         1\n",
              "Italy                                           1\n",
              "alse                                            1\n",
              "India                                           1\n",
              "Modena                                          1\n",
              "625.0                                           1\n",
              "652.0                                           1\n",
              "438.0                                           1\n",
              "Emilia-Romagna                                  1\n",
              "591.0                                           1\n",
              "ZW                                              1\n",
              "Name: sequence_available, dtype: int64"
            ]
          },
          "metadata": {},
          "execution_count": 22
        }
      ]
    },
    {
      "cell_type": "markdown",
      "source": [
        "**outcome**"
      ],
      "metadata": {
        "id": "ABvb1G2B8eJ1"
      }
    },
    {
      "cell_type": "code",
      "source": [
        "def convert_outcome(x):\n",
        "  if x in ['died', 'death', 'Dead', 'Died', 'dead', 'Death']:\n",
        "    return 'died'\n",
        "  return 'did not die'\n",
        "\n",
        "df['outcome'] = df['outcome'].apply(convert_outcome)  #now it is binary data\n",
        "df['outcome'].value_counts(dropna=False)"
      ],
      "metadata": {
        "colab": {
          "base_uri": "https://localhost:8080/"
        },
        "id": "uGZssWRp2MqN",
        "outputId": "caf1b8c5-dc5c-4fd7-a902-757508d7b4ca"
      },
      "execution_count": 23,
      "outputs": [
        {
          "output_type": "execute_result",
          "data": {
            "text/plain": [
              "did not die    3921324\n",
              "died              1615\n",
              "Name: outcome, dtype: int64"
            ]
          },
          "metadata": {},
          "execution_count": 23
        }
      ]
    },
    {
      "cell_type": "markdown",
      "source": [
        "**notes_for_discassion**"
      ],
      "metadata": {
        "id": "1Pe0-yao9Ce0"
      }
    },
    {
      "cell_type": "code",
      "source": [
        "df['notes_for_discussion'].value_counts(dropna=False)"
      ],
      "metadata": {
        "colab": {
          "base_uri": "https://localhost:8080/"
        },
        "id": "_UISZWT68vbP",
        "outputId": "a3c7ad80-0047-40c2-885a-bec36cb38b1f"
      },
      "execution_count": 24,
      "outputs": [
        {
          "output_type": "execute_result",
          "data": {
            "text/plain": [
              "NaN                                                                                                     3922217\n",
              "Could be some cases from 23rd                                                                                91\n",
              "Ethiopian                                                                                                    68\n",
              "http://wsjkw.cq.gov.cn/tzgg/20200127/249875.html                                                             64\n",
              "Known contact; importation=N; transmission_type=Contact; detected_through=Active monitoring                  22\n",
              "                                                                                                         ...   \n",
              "Contact of 3/17 case; importation=N; transmission_type=Contact; detected_through=Monitored                    1\n",
              "Contact of 3/11 case; importation=N; transmission_type=Contact; detected_through=Monitored                    1\n",
              "Contact of first case in Touba; importation=N; transmission_type=Contact; detected_through=Monitored          1\n",
              "Alert to authorities 3/15; importation=Y; transmission_type=; detected_through=Self-presentation              1\n",
              "228.0                                                                                                         1\n",
              "Name: notes_for_discussion, Length: 219, dtype: int64"
            ]
          },
          "metadata": {},
          "execution_count": 24
        }
      ]
    },
    {
      "cell_type": "markdown",
      "source": [
        "**location**"
      ],
      "metadata": {
        "id": "o8nPJ2sJ9ZX1"
      }
    },
    {
      "cell_type": "code",
      "source": [
        "df['location'].value_counts(dropna=False)"
      ],
      "metadata": {
        "colab": {
          "base_uri": "https://localhost:8080/"
        },
        "id": "SLjq4HQf9cl7",
        "outputId": "897539a3-9342-43ba-a542-a1595fe3c4b3"
      },
      "execution_count": 25,
      "outputs": [
        {
          "output_type": "execute_result",
          "data": {
            "text/plain": [
              "NaN                    3904256\n",
              "Jaipur                    4576\n",
              "Agra                      2023\n",
              "Chicago                   1952\n",
              "Gurugram                  1829\n",
              "                        ...   \n",
              "Zielona Gora                 1\n",
              "Marzahn-Hellersdorf          1\n",
              "Chernivtsi                   1\n",
              "Usti nad Labem               1\n",
              "ZW                           1\n",
              "Name: location, Length: 354, dtype: int64"
            ]
          },
          "metadata": {},
          "execution_count": 25
        }
      ]
    },
    {
      "cell_type": "markdown",
      "source": [
        "**admin3/2/1**"
      ],
      "metadata": {
        "id": "BwWOEfq79hTB"
      }
    },
    {
      "cell_type": "code",
      "source": [
        "df['admin3'].value_counts(dropna=False)"
      ],
      "metadata": {
        "colab": {
          "base_uri": "https://localhost:8080/"
        },
        "id": "S7NYZDeT9krN",
        "outputId": "d64fc938-5446-4ec5-cedf-5d025b139a36"
      },
      "execution_count": 86,
      "outputs": [
        {
          "output_type": "execute_result",
          "data": {
            "text/plain": [
              "NaN                 3836347\n",
              "Birmingham             3437\n",
              "Sheffield              2447\n",
              "Leeds                  1655\n",
              "Brent                  1471\n",
              "                     ...   \n",
              "Spain                     1\n",
              "Uetze                     1\n",
              "Schuettorf                1\n",
              "Westoverledingen          1\n",
              "Hamburg                   1\n",
              "Name: admin3, Length: 411, dtype: int64"
            ]
          },
          "metadata": {},
          "execution_count": 86
        }
      ]
    },
    {
      "cell_type": "code",
      "source": [
        "df['admin1'].value_counts(dropna=False)"
      ],
      "metadata": {
        "colab": {
          "base_uri": "https://localhost:8080/"
        },
        "id": "djJm5pdBCukR",
        "outputId": "c5d936a7-c1ed-4894-998d-c3c342c2b690"
      },
      "execution_count": 87,
      "outputs": [
        {
          "output_type": "execute_result",
          "data": {
            "text/plain": [
              "NaN                             1702282\n",
              "Central                          401765\n",
              "England                          156858\n",
              "Lombardia                        156303\n",
              "Madrid                           115490\n",
              "                                 ...   \n",
              "Bratislavsky                          1\n",
              "Severno-Backi                         1\n",
              "Santiago Metropolitan Region          1\n",
              "Osrednjeslovenska                     1\n",
              "Germany                               1\n",
              "Name: admin1, Length: 631, dtype: int64"
            ]
          },
          "metadata": {},
          "execution_count": 87
        }
      ]
    },
    {
      "cell_type": "code",
      "source": [
        "\n",
        "df['admin2'].value_counts(dropna=False)"
      ],
      "metadata": {
        "colab": {
          "base_uri": "https://localhost:8080/"
        },
        "id": "pUap8jSTCw48",
        "outputId": "977fb0b7-159f-4793-ac7e-af02b7fa5fae"
      },
      "execution_count": 88,
      "outputs": [
        {
          "output_type": "execute_result",
          "data": {
            "text/plain": [
              "NaN                                 2469200\n",
              "Moscow                               298916\n",
              "Moscow Oblast                         58329\n",
              "Milano                                46244\n",
              "Torino                                31365\n",
              "                                     ...   \n",
              "Calw District                             1\n",
              "Sachsische Schweiz-Osterzgebirge          1\n",
              "Saale-Orla District                       1\n",
              "Bad Durkheim                              1\n",
              "Auvergne-Rhone-Alpes                      1\n",
              "Name: admin2, Length: 2098, dtype: int64"
            ]
          },
          "metadata": {},
          "execution_count": 88
        }
      ]
    },
    {
      "cell_type": "markdown",
      "source": [
        "**country_new**"
      ],
      "metadata": {
        "id": "3DVpngQZ-Bvc"
      }
    },
    {
      "cell_type": "code",
      "source": [
        "df['country_new'].value_counts(dropna=False)"
      ],
      "metadata": {
        "colab": {
          "base_uri": "https://localhost:8080/"
        },
        "id": "dm_WmQye-Fp9",
        "outputId": "3cbfb110-0a9e-41dd-ca9d-a7d0061ea85a"
      },
      "execution_count": 89,
      "outputs": [
        {
          "output_type": "execute_result",
          "data": {
            "text/plain": [
              "Russia           596536\n",
              "Spain            504904\n",
              "Italy            461330\n",
              "India            413755\n",
              "Germany          365346\n",
              "                  ...  \n",
              "11925.0               1\n",
              "8227.0                1\n",
              "Liechtenstein         1\n",
              "Indpain               1\n",
              "Spagdom               1\n",
              "Name: country_new, Length: 165, dtype: int64"
            ]
          },
          "metadata": {},
          "execution_count": 89
        }
      ]
    },
    {
      "cell_type": "markdown",
      "source": [
        "admin_id"
      ],
      "metadata": {
        "id": "UShYMFji9_y7"
      }
    },
    {
      "cell_type": "code",
      "source": [
        "def convert_admin_id(x):\n",
        "  try:\n",
        "    return float(x)\n",
        "  except:\n",
        "    return nan\n",
        "\n",
        "df['admin_id'] = df['admin_id'].apply(convert_admin_id) #do as float type\n",
        "df['admin_id'].describe()"
      ],
      "metadata": {
        "colab": {
          "base_uri": "https://localhost:8080/"
        },
        "id": "2umhoizQ-Qmj",
        "outputId": "46f4022c-2698-4f0c-8955-f0be96cd2f43"
      },
      "execution_count": 26,
      "outputs": [
        {
          "output_type": "execute_result",
          "data": {
            "text/plain": [
              "count    3.922706e+06\n",
              "mean     6.086270e+03\n",
              "std      4.609683e+03\n",
              "min      2.000000e+00\n",
              "25%      6.640000e+02\n",
              "50%      6.345000e+03\n",
              "75%      1.096600e+04\n",
              "max      1.621100e+04\n",
              "Name: admin_id, dtype: float64"
            ]
          },
          "metadata": {},
          "execution_count": 26
        }
      ]
    },
    {
      "cell_type": "markdown",
      "source": [
        "**traval_history_binary**"
      ],
      "metadata": {
        "id": "C0r7d7vi_NAk"
      }
    },
    {
      "cell_type": "code",
      "source": [
        "def convert_travel_history_binary(x):\n",
        "  if (str(x) == 'True') | (bool(x) == True):\n",
        "    return True\n",
        "  elif (str(x) == 'False') | (bool(x) == False) | (str(x) == 'Faalse'):\n",
        "    return False\n",
        "  return nan\n",
        "\n",
        "df['travel_history_binary'] = df['travel_history_binary'].apply(convert_travel_history_binary) # do as bool type\n",
        "df['travel_history_binary'].value_counts(dropna=False)"
      ],
      "metadata": {
        "colab": {
          "base_uri": "https://localhost:8080/"
        },
        "id": "O6RRbqYM_L-X",
        "outputId": "c00fe878-9569-4e09-8e37-4767a1692ccc"
      },
      "execution_count": 27,
      "outputs": [
        {
          "output_type": "execute_result",
          "data": {
            "text/plain": [
              "False    3791558\n",
              "True      131381\n",
              "Name: travel_history_binary, dtype: int64"
            ]
          },
          "metadata": {},
          "execution_count": 27
        }
      ]
    },
    {
      "cell_type": "code",
      "source": [
        "df.info()"
      ],
      "metadata": {
        "colab": {
          "base_uri": "https://localhost:8080/"
        },
        "id": "s60VRlrnDEKd",
        "outputId": "4baaba3d-972f-4b8c-b114-7bb961ff42b8"
      },
      "execution_count": 28,
      "outputs": [
        {
          "output_type": "stream",
          "name": "stdout",
          "text": [
            "<class 'pandas.core.frame.DataFrame'>\n",
            "Int64Index: 3922939 entries, 0 to 3923271\n",
            "Data columns (total 33 columns):\n",
            " #   Column                    Dtype  \n",
            "---  ------                    -----  \n",
            " 0   ID                        object \n",
            " 1   age                       float64\n",
            " 2   sex                       object \n",
            " 3   city                      object \n",
            " 4   province                  object \n",
            " 5   country                   object \n",
            " 6   latitude                  float64\n",
            " 7   longitude                 float64\n",
            " 8   geo_resolution            object \n",
            " 9   date_onset_symptoms       object \n",
            " 10  date_admission_hospital   object \n",
            " 11  date_confirmation         object \n",
            " 12  symptoms                  object \n",
            " 13  lives_in_Wuhan            object \n",
            " 14  travel_history_dates      object \n",
            " 15  travel_history_location   object \n",
            " 16  reported_market_exposure  object \n",
            " 17  additional_information    object \n",
            " 18  chronic_disease_binary    bool   \n",
            " 19  chronic_disease           object \n",
            " 20  source                    object \n",
            " 21  sequence_available        object \n",
            " 22  outcome                   object \n",
            " 23  date_death_or_discharge   object \n",
            " 24  notes_for_discussion      object \n",
            " 25  location                  object \n",
            " 26  admin3                    object \n",
            " 27  admin2                    object \n",
            " 28  admin1                    object \n",
            " 29  country_new               object \n",
            " 30  admin_id                  float64\n",
            " 31  data_moderator_initials   object \n",
            " 32  travel_history_binary     bool   \n",
            "dtypes: bool(2), float64(4), object(27)\n",
            "memory usage: 965.2+ MB\n"
          ]
        }
      ]
    },
    {
      "cell_type": "markdown",
      "source": [
        ""
      ],
      "metadata": {
        "id": "PZ7PUwmG94TK"
      }
    }
  ]
}
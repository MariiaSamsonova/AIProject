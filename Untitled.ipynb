{
  "cells": [
    {
      "cell_type": "markdown",
      "metadata": {
        "id": "view-in-github",
        "colab_type": "text"
      },
      "source": [
        "<a href=\"https://colab.research.google.com/github/MariiaSamsonova/AIProject/blob/main/Untitled.ipynb\" target=\"_parent\"><img src=\"https://colab.research.google.com/assets/colab-badge.svg\" alt=\"Open In Colab\"/></a>"
      ]
    },
    {
      "cell_type": "code",
      "execution_count": 27,
      "metadata": {
        "colab": {
          "base_uri": "https://localhost:8080/"
        },
        "id": "Ook24E2z5u3Y",
        "outputId": "4e0bb011-e5c6-4003-8a5e-439391611255"
      },
      "outputs": [
        {
          "output_type": "stream",
          "name": "stderr",
          "text": [
            "/usr/local/lib/python3.7/dist-packages/IPython/core/interactiveshell.py:2882: DtypeWarning: Columns (1,2,9,10,12,13,14,15,16,17,18,19,21,22,23,24,25,26,27,31,32) have mixed types.Specify dtype option on import or set low_memory=False.\n",
            "  exec(code_obj, self.user_global_ns, self.user_ns)\n"
          ]
        }
      ],
      "source": [
        "from csv import reader\n",
        "import pandas as pd\n",
        "#read csv file\n",
        "df = pd.read_csv('latestdata.csv', on_bad_lines='skip')\n",
        "nan = df['sequence_available'].head(1)[0] #nan value"
      ]
    },
    {
      "cell_type": "code",
      "execution_count": 4,
      "metadata": {
        "colab": {
          "base_uri": "https://localhost:8080/"
        },
        "id": "okXyfuld6E6i",
        "outputId": "65c538bd-cfee-4283-9bb4-cb918d2a166a"
      },
      "outputs": [
        {
          "output_type": "stream",
          "name": "stdout",
          "text": [
            "<class 'pandas.core.frame.DataFrame'>\n",
            "RangeIndex: 9625 entries, 0 to 9624\n",
            "Data columns (total 33 columns):\n",
            " #   Column                    Non-Null Count  Dtype  \n",
            "---  ------                    --------------  -----  \n",
            " 0   ID                        9625 non-null   object \n",
            " 1   age                       865 non-null    object \n",
            " 2   sex                       992 non-null    object \n",
            " 3   city                      3728 non-null   object \n",
            " 4   province                  8939 non-null   object \n",
            " 5   country                   9610 non-null   object \n",
            " 6   latitude                  9623 non-null   float64\n",
            " 7   longitude                 9623 non-null   float64\n",
            " 8   geo_resolution            9623 non-null   object \n",
            " 9   date_onset_symptoms       295 non-null    object \n",
            " 10  date_admission_hospital   263 non-null    object \n",
            " 11  date_confirmation         9592 non-null   object \n",
            " 12  symptoms                  232 non-null    object \n",
            " 13  lives_in_Wuhan            156 non-null    object \n",
            " 14  travel_history_dates      276 non-null    object \n",
            " 15  travel_history_location   692 non-null    object \n",
            " 16  reported_market_exposure  6 non-null      object \n",
            " 17  additional_information    2303 non-null   object \n",
            " 18  chronic_disease_binary    9624 non-null   object \n",
            " 19  chronic_disease           8 non-null      object \n",
            " 20  source                    9471 non-null   object \n",
            " 21  sequence_available        1 non-null      object \n",
            " 22  outcome                   97 non-null     object \n",
            " 23  date_death_or_discharge   82 non-null     object \n",
            " 24  notes_for_discussion      149 non-null    object \n",
            " 25  location                  1453 non-null   object \n",
            " 26  admin3                    233 non-null    object \n",
            " 27  admin2                    2302 non-null   object \n",
            " 28  admin1                    9302 non-null   object \n",
            " 29  country_new               9602 non-null   object \n",
            " 30  admin_id                  9622 non-null   float64\n",
            " 31  data_moderator_initials   0 non-null      float64\n",
            " 32  travel_history_binary     0 non-null      float64\n",
            "dtypes: float64(5), object(28)\n",
            "memory usage: 2.4+ MB\n"
          ]
        },
        {
          "output_type": "execute_result",
          "data": {
            "text/plain": [
              "ID                          0.000000\n",
              "chronic_disease_binary      0.000104\n",
              "latitude                    0.000208\n",
              "longitude                   0.000208\n",
              "geo_resolution              0.000208\n",
              "admin_id                    0.000312\n",
              "country                     0.001558\n",
              "country_new                 0.002390\n",
              "date_confirmation           0.003429\n",
              "source                      0.016000\n",
              "admin1                      0.033558\n",
              "province                    0.071273\n",
              "city                        0.612675\n",
              "additional_information      0.760727\n",
              "admin2                      0.760831\n",
              "location                    0.849039\n",
              "sex                         0.896935\n",
              "age                         0.910130\n",
              "travel_history_location     0.928104\n",
              "date_onset_symptoms         0.969351\n",
              "travel_history_dates        0.971325\n",
              "date_admission_hospital     0.972675\n",
              "admin3                      0.975792\n",
              "symptoms                    0.975896\n",
              "lives_in_Wuhan              0.983792\n",
              "notes_for_discussion        0.984519\n",
              "outcome                     0.989922\n",
              "date_death_or_discharge     0.991481\n",
              "chronic_disease             0.999169\n",
              "reported_market_exposure    0.999377\n",
              "sequence_available          0.999896\n",
              "data_moderator_initials     1.000000\n",
              "travel_history_binary       1.000000\n",
              "dtype: float64"
            ]
          },
          "metadata": {},
          "execution_count": 4
        }
      ],
      "source": [
        "df.info()                         #Dtype\n",
        "df.isna().mean().sort_values()    #nan value part"
      ]
    },
    {
      "cell_type": "markdown",
      "metadata": {
        "id": "aGC73i2RwmJv"
      },
      "source": [
        "**age**\n",
        "\n"
      ]
    },
    {
      "cell_type": "markdown",
      "metadata": {
        "id": "k-hiptdBwwBQ"
      },
      "source": [
        ""
      ]
    },
    {
      "cell_type": "code",
      "execution_count": 28,
      "metadata": {
        "colab": {
          "base_uri": "https://localhost:8080/"
        },
        "id": "jNjL13C6M0wB",
        "outputId": "1f8afd69-a0a3-4b83-d875-b867084f1b1f"
      },
      "outputs": [
        {
          "output_type": "execute_result",
          "data": {
            "text/plain": [
              "count    3297.0\n",
              "mean       77.1\n",
              "std        23.5\n",
              "min         1.0\n",
              "25%        72.0\n",
              "50%        90.0\n",
              "75%        90.0\n",
              "max        90.0\n",
              "Name: age, dtype: float64"
            ]
          },
          "metadata": {},
          "execution_count": 28
        }
      ],
      "source": [
        "import numpy as np\n",
        "\n",
        "def convert_age(x):\n",
        "  try:\n",
        "    if x[-1] == '+':\n",
        "      return float(x[:-1])\n",
        "  except:\n",
        "    try:\n",
        "      age = float(str(x))\n",
        "      if age < 200:\n",
        "        return age\n",
        "    except ValueError:\n",
        "      try:\n",
        "        age_range = x.split('-')\n",
        "        return (float(str(age_range[0])) + float(str(age_range[0])))/2\n",
        "      except:\n",
        "        return nan\n",
        "  return nan\n",
        "\n",
        "df['age'] = df['age'].apply(convert_age)      #do age as type float\n",
        "df['age'].describe().round(1)"
      ]
    },
    {
      "cell_type": "markdown",
      "metadata": {
        "id": "JEME8dw3w1vI"
      },
      "source": [
        "**sex**"
      ]
    },
    {
      "cell_type": "code",
      "execution_count": 29,
      "metadata": {
        "colab": {
          "base_uri": "https://localhost:8080/"
        },
        "id": "3x8LHiFciiUD",
        "outputId": "33163c84-442a-4860-bd5a-3b9120a8732b"
      },
      "outputs": [
        {
          "output_type": "execute_result",
          "data": {
            "text/plain": [
              "NaN       453288\n",
              "male       49574\n",
              "female     41078\n",
              "Name: sex, dtype: int64"
            ]
          },
          "metadata": {},
          "execution_count": 29
        }
      ],
      "source": [
        "df = df.loc[df['sex'].isin(['female', 'male', 'mal', nan])]   #delete corrupted data\n",
        "df['sex'] = df['sex'].replace(to_replace =\"mal\", value =\"male\")\n",
        "df['sex'].value_counts(dropna=False)"
      ]
    },
    {
      "cell_type": "markdown",
      "metadata": {
        "id": "3lUBYVh-w7fd"
      },
      "source": [
        "**city, province, country**"
      ]
    },
    {
      "cell_type": "code",
      "execution_count": null,
      "metadata": {
        "colab": {
          "base_uri": "https://localhost:8080/"
        },
        "id": "lck6uWuFm-gN",
        "outputId": "3f560090-8b00-49ee-a1e1-4925d5759595"
      },
      "outputs": [
        {
          "data": {
            "text/plain": [
              "count     2552815\n",
              "unique       6929\n",
              "top        Moscow\n",
              "freq       298934\n",
              "Name: city, dtype: object"
            ]
          },
          "execution_count": 5,
          "metadata": {},
          "output_type": "execute_result"
        }
      ],
      "source": [
        "df['city'].describe()"
      ]
    },
    {
      "cell_type": "code",
      "execution_count": null,
      "metadata": {
        "colab": {
          "base_uri": "https://localhost:8080/"
        },
        "id": "LC81S0DVA0c1",
        "outputId": "a8d3bcec-bccb-4b87-a99b-913e4498162b"
      },
      "outputs": [
        {
          "data": {
            "text/plain": [
              "count     3489016\n",
              "unique       1066\n",
              "top       Central\n",
              "freq       413346\n",
              "Name: province, dtype: object"
            ]
          },
          "execution_count": 6,
          "metadata": {},
          "output_type": "execute_result"
        }
      ],
      "source": [
        "df['province'].describe()"
      ]
    },
    {
      "cell_type": "code",
      "execution_count": null,
      "metadata": {
        "colab": {
          "base_uri": "https://localhost:8080/"
        },
        "id": "IrWJXKDEA3Ub",
        "outputId": "c5c5abf0-a508-42c8-b178-0f60a2876655"
      },
      "outputs": [
        {
          "data": {
            "text/plain": [
              "count     3923048\n",
              "unique        183\n",
              "top        Russia\n",
              "freq       596556\n",
              "Name: country, dtype: object"
            ]
          },
          "execution_count": 7,
          "metadata": {},
          "output_type": "execute_result"
        }
      ],
      "source": [
        "df['country'].describe()"
      ]
    },
    {
      "cell_type": "markdown",
      "metadata": {
        "id": "f2g-DqKqxMMV"
      },
      "source": [
        "\n",
        "**latitude, longitude**"
      ]
    },
    {
      "cell_type": "code",
      "execution_count": 30,
      "metadata": {
        "colab": {
          "base_uri": "https://localhost:8080/"
        },
        "id": "nBHyxA8go1pM",
        "outputId": "bbdb5f35-b61f-44e6-d37e-b13214e73c9c"
      },
      "outputs": [
        {
          "output_type": "execute_result",
          "data": {
            "text/plain": [
              "count    543898.000000\n",
              "mean         26.306569\n",
              "std          14.594124\n",
              "min         -42.880600\n",
              "25%          18.940170\n",
              "50%          25.151460\n",
              "75%          31.568949\n",
              "max          70.071800\n",
              "Name: latitude, dtype: float64"
            ]
          },
          "metadata": {},
          "execution_count": 30
        }
      ],
      "source": [
        "def convert_coordinates(x):\n",
        "  try:\n",
        "    return float(x)\n",
        "  except:\n",
        "    return nan\n",
        "\n",
        "df['latitude'] = df['latitude'].apply(convert_coordinates)   # do latitude as type float\n",
        "df['longitude'] = df['longitude'].apply(convert_coordinates) # do longitude as type float\n",
        "\n",
        "df['latitude'].describe()"
      ]
    },
    {
      "cell_type": "code",
      "execution_count": null,
      "metadata": {
        "colab": {
          "base_uri": "https://localhost:8080/"
        },
        "id": "M-ePcK5JA-_u",
        "outputId": "43961c72-6204-45f9-cca9-cff8374c274b"
      },
      "outputs": [
        {
          "data": {
            "text/plain": [
              "count    3.923026e+06\n",
              "mean     1.556198e+01\n",
              "std      4.313646e+01\n",
              "min     -1.597276e+02\n",
              "25%     -5.769000e-01\n",
              "50%      9.994373e+00\n",
              "75%      3.761730e+01\n",
              "max      1.205100e+04\n",
              "Name: longitude, dtype: float64"
            ]
          },
          "execution_count": 66,
          "metadata": {},
          "output_type": "execute_result"
        }
      ],
      "source": [
        "df['longitude'].describe()"
      ]
    },
    {
      "cell_type": "markdown",
      "metadata": {
        "id": "rU5eHbJMxY3q"
      },
      "source": [
        "**geo_resolution**"
      ]
    },
    {
      "cell_type": "code",
      "execution_count": 31,
      "metadata": {
        "colab": {
          "base_uri": "https://localhost:8080/"
        },
        "id": "P-floYUZq97t",
        "outputId": "d038e652-7024-4c80-9520-0fbbb87d57e2"
      },
      "outputs": [
        {
          "output_type": "execute_result",
          "data": {
            "text/plain": [
              "point     314139\n",
              "admin1     99040\n",
              "admin2     65819\n",
              "admin0     55955\n",
              "admin3      8945\n",
              "NaN           42\n",
              "Name: geo_resolution, dtype: int64"
            ]
          },
          "metadata": {},
          "execution_count": 31
        }
      ],
      "source": [
        "df = df.loc[df['geo_resolution'].isin(['point', 'admin2', 'admin1', 'admin0', 'admin3', nan])]  #drop inappropriate data\n",
        "df['geo_resolution'].value_counts(dropna=False)"
      ]
    },
    {
      "cell_type": "markdown",
      "metadata": {
        "id": "B5KewKMx3c_Q"
      },
      "source": [
        "**dates**"
      ]
    },
    {
      "cell_type": "code",
      "execution_count": 116,
      "metadata": {
        "id": "5TBMPBEJrXpY"
      },
      "outputs": [],
      "source": [
        "#convent to date type\n",
        "\n",
        "def convent_to_date_type(x):\n",
        "  if x != nan:\n",
        "    try:\n",
        "      return pd.to_datetime(x, format=\"%d.%m.%Y\")\n",
        "    except:\n",
        "      return nan\n"
      ]
    },
    {
      "cell_type": "code",
      "execution_count": null,
      "metadata": {
        "id": "zPNFFIlOO9qd",
        "colab": {
          "base_uri": "https://localhost:8080/"
        },
        "outputId": "4a8e2851-8991-402b-8c5a-0c53c4a97a0a"
      },
      "outputs": [
        {
          "output_type": "execute_result",
          "data": {
            "text/plain": [
              "count                              409\n",
              "mean     2020-02-12 17:36:14.083129600\n",
              "min                2020-01-03 00:00:00\n",
              "25%                2020-01-26 00:00:00\n",
              "50%                2020-02-13 00:00:00\n",
              "75%                2020-02-28 00:00:00\n",
              "max                2020-04-03 00:00:00\n",
              "Name: date_admission_hospital, dtype: object"
            ]
          },
          "metadata": {},
          "execution_count": 9
        }
      ],
      "source": [
        "df['date_admission_hospital'] = df['date_admission_hospital'].apply(convent_to_date_type)\n",
        "df['date_admission_hospital'].describe(datetime_is_numeric=True)"
      ]
    },
    {
      "cell_type": "code",
      "execution_count": null,
      "metadata": {
        "id": "_KmY_x-DIK1d",
        "colab": {
          "base_uri": "https://localhost:8080/"
        },
        "outputId": "09f381a6-5440-45bc-a028-8396da56c058"
      },
      "outputs": [
        {
          "output_type": "execute_result",
          "data": {
            "text/plain": [
              "count                              338\n",
              "mean     2020-02-11 00:59:38.698224896\n",
              "min                2019-11-08 00:00:00\n",
              "25%                2020-01-22 00:00:00\n",
              "50%                2020-02-21 00:00:00\n",
              "75%                2020-02-28 00:00:00\n",
              "max                2020-03-10 00:00:00\n",
              "Name: travel_history_dates, dtype: object"
            ]
          },
          "metadata": {},
          "execution_count": 10
        }
      ],
      "source": [
        "df['travel_history_dates'] = df['travel_history_dates'].apply(convent_to_date_type)\n",
        "df['travel_history_dates'].describe(datetime_is_numeric=True)"
      ]
    },
    {
      "cell_type": "code",
      "execution_count": null,
      "metadata": {
        "colab": {
          "base_uri": "https://localhost:8080/"
        },
        "id": "6VhUgCWWIMTk",
        "outputId": "6f71b18d-1eee-4497-d1d6-5fd16ee010fe"
      },
      "outputs": [
        {
          "output_type": "execute_result",
          "data": {
            "text/plain": [
              "count                             1180\n",
              "mean     2020-03-25 05:39:15.254237696\n",
              "min                2020-01-09 00:00:00\n",
              "25%                2020-03-02 00:00:00\n",
              "50%                2020-03-28 00:00:00\n",
              "75%                2020-04-13 00:00:00\n",
              "max                2020-06-04 00:00:00\n",
              "Name: date_death_or_discharge, dtype: object"
            ]
          },
          "metadata": {},
          "execution_count": 37
        }
      ],
      "source": [
        "df['date_death_or_discharge'] = df['date_death_or_discharge'].apply(convent_to_date_type)\n",
        "df['date_death_or_discharge'].describe(datetime_is_numeric=True)"
      ]
    },
    {
      "cell_type": "code",
      "execution_count": null,
      "metadata": {
        "colab": {
          "base_uri": "https://localhost:8080/",
          "height": 282
        },
        "id": "XrrqV6wxUDfh",
        "outputId": "51fdcd6a-d007-41aa-981c-a1be6dec7856"
      },
      "outputs": [
        {
          "output_type": "execute_result",
          "data": {
            "text/plain": [
              "<matplotlib.axes._subplots.AxesSubplot at 0x7f2449627e10>"
            ]
          },
          "metadata": {},
          "execution_count": 39
        },
        {
          "output_type": "display_data",
          "data": {
            "text/plain": [
              "<Figure size 432x288 with 1 Axes>"
            ],
            "image/png": "[encoded data removed]"
          },
          "metadata": {
            "needs_background": "light"
          }
        }
      ],
      "source": [
        "df['date_death_or_discharge'].hist(bins = 15)"
      ]
    },
    {
      "cell_type": "markdown",
      "metadata": {
        "id": "2XqmGt5N3sbZ"
      },
      "source": [
        "**symptoms**"
      ]
    },
    {
      "cell_type": "code",
      "execution_count": null,
      "metadata": {
        "colab": {
          "base_uri": "https://localhost:8080/"
        },
        "id": "a344EFsHsPL9",
        "outputId": "5c8defd3-b5ba-485e-f184-6ec0de6411e3"
      },
      "outputs": [
        {
          "data": {
            "text/plain": [
              "NaN                                                          3920595\n",
              "fever                                                            374\n",
              "Mild to moderate                                                 257\n",
              "cough, fever                                                     168\n",
              "Mild:moderate                                                    128\n",
              "                                                              ...   \n",
              "fever:cough                                                        1\n",
              "cough:sore throat:colds                                            1\n",
              "cough:body malaise                                                 1\n",
              "fever:cough:shortness of breath                                    1\n",
              "https://www.worldometers.info/coronavirus/country/turkey/          1\n",
              "Name: symptoms, Length: 481, dtype: int64"
            ]
          },
          "execution_count": 12,
          "metadata": {},
          "output_type": "execute_result"
        }
      ],
      "source": [
        "df['symptoms'].value_counts(dropna=False)"
      ]
    },
    {
      "cell_type": "markdown",
      "metadata": {
        "id": "vlGxMKop33jN"
      },
      "source": [
        "**lives_in_Wuhan**"
      ]
    },
    {
      "cell_type": "code",
      "execution_count": 32,
      "metadata": {
        "colab": {
          "base_uri": "https://localhost:8080/"
        },
        "id": "5AT4QZL-vRCd",
        "outputId": "868a9451-a71b-4e0b-ab17-adcac53e91d7"
      },
      "outputs": [
        {
          "output_type": "execute_result",
          "data": {
            "text/plain": [
              "NaN      542044\n",
              "False      1345\n",
              "True        551\n",
              "Name: lives_in_Wuhan, dtype: int64"
            ]
          },
          "metadata": {},
          "execution_count": 32
        }
      ],
      "source": [
        "df = df.loc[df['lives_in_Wuhan'].isin(['no', 'yes', 'False', False, 'TR', nan])]  #drop inappropriate data\n",
        "\n",
        "def convert_lives_in_Wuhan(x):\n",
        "  if (str(x) == 'yes') | (str(x) == 'TR'):\n",
        "    return True\n",
        "  elif (str(x) == 'False') | (bool(x) == False) | (str(x) == 'no'):\n",
        "    return False\n",
        "  return nan\n",
        "\n",
        "df['lives_in_Wuhan'] = df['lives_in_Wuhan'].apply(convert_lives_in_Wuhan) #do as bool type\n",
        "df['lives_in_Wuhan'].value_counts(dropna=False)"
      ]
    },
    {
      "cell_type": "markdown",
      "metadata": {
        "id": "UuaKEAEG4c7-"
      },
      "source": [
        "**travel_history_location**"
      ]
    },
    {
      "cell_type": "code",
      "execution_count": null,
      "metadata": {
        "colab": {
          "base_uri": "https://localhost:8080/"
        },
        "id": "hvhShfwBwdQH",
        "outputId": "f7087d60-7249-497d-c112-2b38acfa21f9"
      },
      "outputs": [
        {
          "data": {
            "text/plain": [
              "NaN                    3909800\n",
              "USA                       2034\n",
              "Spain                     1666\n",
              "Italy                     1007\n",
              "Wuhan City, Hubei          948\n",
              "                        ...   \n",
              "Malawi                       1\n",
              "Lebanon                      1\n",
              "Germany; Belgium             1\n",
              "Cote d'Ivoire; Togo          1\n",
              "Wales                        1\n",
              "Name: travel_history_location, Length: 789, dtype: int64"
            ]
          },
          "execution_count": 15,
          "metadata": {},
          "output_type": "execute_result"
        }
      ],
      "source": [
        "df['travel_history_location'].value_counts(dropna=False)"
      ]
    },
    {
      "cell_type": "markdown",
      "metadata": {
        "id": "2i66eWBG4kTm"
      },
      "source": [
        "**reported_market_exposure**"
      ]
    },
    {
      "cell_type": "code",
      "execution_count": 33,
      "metadata": {
        "colab": {
          "base_uri": "https://localhost:8080/"
        },
        "id": "TnjADsEG1gG1",
        "outputId": "cb08d4f2-0a18-4f61-9f44-9a22d6940ddb"
      },
      "outputs": [
        {
          "output_type": "execute_result",
          "data": {
            "text/plain": [
              "NaN      543393\n",
              "False       542\n",
              "True          4\n",
              "Name: reported_market_exposure, dtype: int64"
            ]
          },
          "metadata": {},
          "execution_count": 33
        }
      ],
      "source": [
        "df = df.loc[df['reported_market_exposure'].isin(['na', 'no', 'False', False, 'yes', 'TR', nan])]  #drop inappropriate data\n",
        "\n",
        "def convert_reported_market_exposure(x):\n",
        "  if (str(x) == 'yes') | (str(x) == 'TR'):\n",
        "    return True\n",
        "  elif (str(x) == 'False') | (bool(x) == False) | (str(x) == 'na') | (str(x) == 'no'):\n",
        "    return False\n",
        "  return nan\n",
        "\n",
        "df['reported_market_exposure'] = df['reported_market_exposure'].apply(convert_reported_market_exposure) #do as bool type\n",
        "df['reported_market_exposure'].value_counts(dropna=False)"
      ]
    },
    {
      "cell_type": "markdown",
      "metadata": {
        "id": "lM-oyfTv6Z-o"
      },
      "source": [
        "**aditional_information**"
      ]
    },
    {
      "cell_type": "code",
      "execution_count": null,
      "metadata": {
        "colab": {
          "base_uri": "https://localhost:8080/"
        },
        "id": "NGG-xDxB1oqE",
        "outputId": "94cdbe6c-fafe-47ba-bf08-36073b58cf5f"
      },
      "outputs": [
        {
          "data": {
            "text/plain": [
              "NaN                                3861815\n",
              "Previous confirmed case contact       1748\n",
              "Reconciled from MOHFW Table           1098\n",
              "Travelled from Maharashtra            1076\n",
              "Back-dated update                     1034\n",
              "                                    ...   \n",
              "C550467                                  1\n",
              "C551405                                  1\n",
              "C551852                                  1\n",
              "C565143                                  1\n",
              "C305864                                  1\n",
              "Name: additional_information, Length: 26724, dtype: int64"
            ]
          },
          "execution_count": 18,
          "metadata": {},
          "output_type": "execute_result"
        }
      ],
      "source": [
        "df['additional_information'].value_counts(dropna=False)"
      ]
    },
    {
      "cell_type": "markdown",
      "metadata": {
        "id": "fZYnu_it6qew"
      },
      "source": [
        "**chronic_disease_binary**"
      ]
    },
    {
      "cell_type": "code",
      "execution_count": 34,
      "metadata": {
        "colab": {
          "base_uri": "https://localhost:8080/"
        },
        "id": "WogSj8nH6kBv",
        "outputId": "f595749c-bde3-4db5-80c7-74939d7ce4b5"
      },
      "outputs": [
        {
          "output_type": "execute_result",
          "data": {
            "text/plain": [
              "False    543774\n",
              "True        165\n",
              "Name: chronic_disease_binary, dtype: int64"
            ]
          },
          "metadata": {},
          "execution_count": 34
        }
      ],
      "source": [
        "def convert_chronic_disease_binary(x):\n",
        "  if (str(x) == 'True') | (bool(x) == True) | (str(x) == 'TR'):\n",
        "    return True\n",
        "  elif (str(x) == 'False') | (bool(x) == False) | (str(x) == 'F') | (str(x) == 'Falue') | (str(x) == 'Flse') | (str(x) == 'Falsue'):\n",
        "    return False\n",
        "  return nan\n",
        "\n",
        "df = df.loc[df['chronic_disease_binary'].isin(['True', 'TR', True, 'F', 'False', False, 'Falue', 'Flse', nan, 'Falsue'])]\n",
        "df['chronic_disease_binary'] = df['chronic_disease_binary'].apply(convert_chronic_disease_binary) #do bool\n",
        "df['chronic_disease_binary'].value_counts(dropna=False)"
      ]
    },
    {
      "cell_type": "markdown",
      "metadata": {
        "id": "nsk-oqOw7cwV"
      },
      "source": [
        "**chronic_disease**"
      ]
    },
    {
      "cell_type": "code",
      "execution_count": null,
      "metadata": {
        "colab": {
          "base_uri": "https://localhost:8080/"
        },
        "id": "Zwo09gCl10rN",
        "outputId": "98654973-8fd5-4283-90aa-210689b19abe"
      },
      "outputs": [
        {
          "data": {
            "text/plain": [
              "NaN                                                                                 3922628\n",
              "https://coronavirus.dc.gov/page/coronavirus-data                                         96\n",
              "https://cv.nmhealth.org/2020/03/25/updated-new-mexico-covid-19-cases-now-at-112/         24\n",
              "hypertension                                                                             21\n",
              "hypertension:diabetes                                                                    10\n",
              "                                                                                     ...   \n",
              "Pre-renal azotemia:cardiomyopathy:hypertension:diabetes                                   1\n",
              "Chronic kidney disease:hypertension                                                       1\n",
              "diabetes:hypertenstion:upper git bleeding                                                 1\n",
              "diabetes:hypertension:chronic kidney disease                                              1\n",
              "https://www.worldometers.info/coronavirus/country/turkey/                                 1\n",
              "Name: chronic_disease, Length: 101, dtype: int64"
            ]
          },
          "execution_count": 20,
          "metadata": {},
          "output_type": "execute_result"
        }
      ],
      "source": [
        "df['chronic_disease'].value_counts(dropna=False)"
      ]
    },
    {
      "cell_type": "markdown",
      "metadata": {
        "id": "GFhGbcoT7iYl"
      },
      "source": [
        "**source**"
      ]
    },
    {
      "cell_type": "code",
      "execution_count": null,
      "metadata": {
        "colab": {
          "base_uri": "https://localhost:8080/"
        },
        "id": "9WYZyp7f1-L5",
        "outputId": "aa5d7527-89d5-47ca-e9e4-c8b36685648b"
      },
      "outputs": [
        {
          "data": {
            "text/plain": [
              "NaN                                                                                                                                                              615788\n",
              "https://raw.githubusercontent.com/datadista/datasets/master/COVID%2019/ccaa_covid19_casos_long.csv                                                               473567\n",
              "stopcoronavirus.rf                                                                                                                                               396056\n",
              "https://coronavirus.data.gov.uk/                                                                                                                                 218480\n",
              "https://www.data.gouv.fr/fr/datasets/donnees-hospitalieres-relatives-a-lepidemie-de-covid-19/#_                                                                  200063\n",
              "                                                                                                                                                                  ...  \n",
              "https://kannada.asianetnews.com/state/coronavirus-positive-case-founded-at-mysuru-total-rise-to-20-in-karnataka-q7jo5i                                                1\n",
              "https://www.hindustantimes.com/cities/23-year-old-woman-in-sonepat-tests-positive-for-coronavirus/story-2HQJGTajtXM9tRF42Vp8PJ.html                                   1\n",
              "https://twitter.com/PTI_News/status/1241377636317708288                                                                                                               1\n",
              "https://www.indiatoday.in/india/story/novel-coronavirus-covid19-india-live-updates-latest-news-developments-confirmed-positive-cases-1658051-2020-03-21#60619         1\n",
              "https://public.tableau.com/profile/public.health.w28.0                                                                                                                1\n",
              "Name: source, Length: 12346, dtype: int64"
            ]
          },
          "execution_count": 21,
          "metadata": {},
          "output_type": "execute_result"
        }
      ],
      "source": [
        "df['source'].value_counts(dropna=False)"
      ]
    },
    {
      "cell_type": "markdown",
      "metadata": {
        "id": "fhE6dQpO7onf"
      },
      "source": [
        "**sequence_available**"
      ]
    },
    {
      "cell_type": "code",
      "execution_count": null,
      "metadata": {
        "colab": {
          "base_uri": "https://localhost:8080/"
        },
        "id": "c8CelUYi2ETV",
        "outputId": "e3afc3fb-d1d9-4313-ba85-4533e208582e"
      },
      "outputs": [
        {
          "data": {
            "text/plain": [
              "NaN                                       3922866\n",
              "10.03.2020                                      8\n",
              "United States                                   5\n",
              "TR                                              5\n",
              "yes                                             4\n",
              "Egypt                                           3\n",
              "6345.0                                          3\n",
              "yes, BetaCoV/Mexico/CDMX/InDRE_01/2020          3\n",
              "Germany                                         2\n",
              "228.0                                           2\n",
              "12051.0                                         2\n",
              "Sweden                                          2\n",
              "7652.0                                          2\n",
              "577.0                                           2\n",
              "Mexico                                          2\n",
              "02.03.2020                                      2\n",
              "28.02.2020                                      2\n",
              "544.0                                           1\n",
              "Lombardia                                       1\n",
              "Turkey                                          1\n",
              "413.0                                           1\n",
              "Nigeria                                         1\n",
              "Scotland                                        1\n",
              "False                                           1\n",
              "Val-de-Marne                                    1\n",
              "6322.0                                          1\n",
              "France                                          1\n",
              "Spain                                           1\n",
              "2414.0                                          1\n",
              "8859.0                                          1\n",
              "12218.0                                         1\n",
              "Italy                                           1\n",
              "alse                                            1\n",
              "India                                           1\n",
              "Modena                                          1\n",
              "625.0                                           1\n",
              "652.0                                           1\n",
              "438.0                                           1\n",
              "Emilia-Romagna                                  1\n",
              "591.0                                           1\n",
              "ZW                                              1\n",
              "Name: sequence_available, dtype: int64"
            ]
          },
          "execution_count": 22,
          "metadata": {},
          "output_type": "execute_result"
        }
      ],
      "source": [
        "df['sequence_available'].value_counts(dropna=False) #questinable data"
      ]
    },
    {
      "cell_type": "markdown",
      "metadata": {
        "id": "ABvb1G2B8eJ1"
      },
      "source": [
        "**outcome**"
      ]
    },
    {
      "cell_type": "code",
      "execution_count": 35,
      "metadata": {
        "colab": {
          "base_uri": "https://localhost:8080/"
        },
        "id": "uGZssWRp2MqN",
        "outputId": "9ce366ad-d18a-46e8-ef34-753914819436"
      },
      "outputs": [
        {
          "output_type": "execute_result",
          "data": {
            "text/plain": [
              "did not die    542977\n",
              "died              962\n",
              "Name: outcome, dtype: int64"
            ]
          },
          "metadata": {},
          "execution_count": 35
        }
      ],
      "source": [
        "def convert_outcome(x):\n",
        "  if x in ['died', 'death', 'Dead', 'Died', 'dead', 'Death']:\n",
        "    return 'died'\n",
        "  return 'did not die'\n",
        "\n",
        "df['outcome'] = df['outcome'].apply(convert_outcome)  #now it is binary data\n",
        "df['outcome'].value_counts(dropna=False)"
      ]
    },
    {
      "cell_type": "markdown",
      "metadata": {
        "id": "1Pe0-yao9Ce0"
      },
      "source": [
        "**notes_for_discassion**"
      ]
    },
    {
      "cell_type": "code",
      "execution_count": null,
      "metadata": {
        "colab": {
          "base_uri": "https://localhost:8080/"
        },
        "id": "_UISZWT68vbP",
        "outputId": "a3c7ad80-0047-40c2-885a-bec36cb38b1f"
      },
      "outputs": [
        {
          "data": {
            "text/plain": [
              "NaN                                                                                                     3922217\n",
              "Could be some cases from 23rd                                                                                91\n",
              "Ethiopian                                                                                                    68\n",
              "http://wsjkw.cq.gov.cn/tzgg/20200127/249875.html                                                             64\n",
              "Known contact; importation=N; transmission_type=Contact; detected_through=Active monitoring                  22\n",
              "                                                                                                         ...   \n",
              "Contact of 3/17 case; importation=N; transmission_type=Contact; detected_through=Monitored                    1\n",
              "Contact of 3/11 case; importation=N; transmission_type=Contact; detected_through=Monitored                    1\n",
              "Contact of first case in Touba; importation=N; transmission_type=Contact; detected_through=Monitored          1\n",
              "Alert to authorities 3/15; importation=Y; transmission_type=; detected_through=Self-presentation              1\n",
              "228.0                                                                                                         1\n",
              "Name: notes_for_discussion, Length: 219, dtype: int64"
            ]
          },
          "execution_count": 24,
          "metadata": {},
          "output_type": "execute_result"
        }
      ],
      "source": [
        "df['notes_for_discussion'].value_counts(dropna=False)"
      ]
    },
    {
      "cell_type": "markdown",
      "metadata": {
        "id": "o8nPJ2sJ9ZX1"
      },
      "source": [
        "**location**"
      ]
    },
    {
      "cell_type": "code",
      "execution_count": null,
      "metadata": {
        "colab": {
          "base_uri": "https://localhost:8080/"
        },
        "id": "SLjq4HQf9cl7",
        "outputId": "897539a3-9342-43ba-a542-a1595fe3c4b3"
      },
      "outputs": [
        {
          "data": {
            "text/plain": [
              "NaN                    3904256\n",
              "Jaipur                    4576\n",
              "Agra                      2023\n",
              "Chicago                   1952\n",
              "Gurugram                  1829\n",
              "                        ...   \n",
              "Zielona Gora                 1\n",
              "Marzahn-Hellersdorf          1\n",
              "Chernivtsi                   1\n",
              "Usti nad Labem               1\n",
              "ZW                           1\n",
              "Name: location, Length: 354, dtype: int64"
            ]
          },
          "execution_count": 25,
          "metadata": {},
          "output_type": "execute_result"
        }
      ],
      "source": [
        "df['location'].value_counts(dropna=False)"
      ]
    },
    {
      "cell_type": "markdown",
      "metadata": {
        "id": "BwWOEfq79hTB"
      },
      "source": [
        "**admin3/2/1**"
      ]
    },
    {
      "cell_type": "code",
      "execution_count": null,
      "metadata": {
        "colab": {
          "base_uri": "https://localhost:8080/"
        },
        "id": "S7NYZDeT9krN",
        "outputId": "d64fc938-5446-4ec5-cedf-5d025b139a36"
      },
      "outputs": [
        {
          "data": {
            "text/plain": [
              "NaN                 3836347\n",
              "Birmingham             3437\n",
              "Sheffield              2447\n",
              "Leeds                  1655\n",
              "Brent                  1471\n",
              "                     ...   \n",
              "Spain                     1\n",
              "Uetze                     1\n",
              "Schuettorf                1\n",
              "Westoverledingen          1\n",
              "Hamburg                   1\n",
              "Name: admin3, Length: 411, dtype: int64"
            ]
          },
          "execution_count": 86,
          "metadata": {},
          "output_type": "execute_result"
        }
      ],
      "source": [
        "df['admin3'].value_counts(dropna=False)"
      ]
    },
    {
      "cell_type": "code",
      "execution_count": null,
      "metadata": {
        "colab": {
          "base_uri": "https://localhost:8080/"
        },
        "id": "djJm5pdBCukR",
        "outputId": "c5d936a7-c1ed-4894-998d-c3c342c2b690"
      },
      "outputs": [
        {
          "data": {
            "text/plain": [
              "NaN                             1702282\n",
              "Central                          401765\n",
              "England                          156858\n",
              "Lombardia                        156303\n",
              "Madrid                           115490\n",
              "                                 ...   \n",
              "Bratislavsky                          1\n",
              "Severno-Backi                         1\n",
              "Santiago Metropolitan Region          1\n",
              "Osrednjeslovenska                     1\n",
              "Germany                               1\n",
              "Name: admin1, Length: 631, dtype: int64"
            ]
          },
          "execution_count": 87,
          "metadata": {},
          "output_type": "execute_result"
        }
      ],
      "source": [
        "df['admin1'].value_counts(dropna=False)"
      ]
    },
    {
      "cell_type": "code",
      "execution_count": null,
      "metadata": {
        "colab": {
          "base_uri": "https://localhost:8080/"
        },
        "id": "pUap8jSTCw48",
        "outputId": "977fb0b7-159f-4793-ac7e-af02b7fa5fae"
      },
      "outputs": [
        {
          "data": {
            "text/plain": [
              "NaN                                 2469200\n",
              "Moscow                               298916\n",
              "Moscow Oblast                         58329\n",
              "Milano                                46244\n",
              "Torino                                31365\n",
              "                                     ...   \n",
              "Calw District                             1\n",
              "Sachsische Schweiz-Osterzgebirge          1\n",
              "Saale-Orla District                       1\n",
              "Bad Durkheim                              1\n",
              "Auvergne-Rhone-Alpes                      1\n",
              "Name: admin2, Length: 2098, dtype: int64"
            ]
          },
          "execution_count": 88,
          "metadata": {},
          "output_type": "execute_result"
        }
      ],
      "source": [
        "\n",
        "df['admin2'].value_counts(dropna=False)"
      ]
    },
    {
      "cell_type": "markdown",
      "metadata": {
        "id": "3DVpngQZ-Bvc"
      },
      "source": [
        "**country_new**"
      ]
    },
    {
      "cell_type": "code",
      "execution_count": null,
      "metadata": {
        "colab": {
          "base_uri": "https://localhost:8080/"
        },
        "id": "dm_WmQye-Fp9",
        "outputId": "3cbfb110-0a9e-41dd-ca9d-a7d0061ea85a"
      },
      "outputs": [
        {
          "data": {
            "text/plain": [
              "Russia           596536\n",
              "Spain            504904\n",
              "Italy            461330\n",
              "India            413755\n",
              "Germany          365346\n",
              "                  ...  \n",
              "11925.0               1\n",
              "8227.0                1\n",
              "Liechtenstein         1\n",
              "Indpain               1\n",
              "Spagdom               1\n",
              "Name: country_new, Length: 165, dtype: int64"
            ]
          },
          "execution_count": 89,
          "metadata": {},
          "output_type": "execute_result"
        }
      ],
      "source": [
        "df['country_new'].value_counts(dropna=False)"
      ]
    },
    {
      "cell_type": "markdown",
      "metadata": {
        "id": "UShYMFji9_y7"
      },
      "source": [
        "**admin_id**"
      ]
    },
    {
      "cell_type": "code",
      "execution_count": 36,
      "metadata": {
        "colab": {
          "base_uri": "https://localhost:8080/"
        },
        "id": "2umhoizQ-Qmj",
        "outputId": "0e940b20-0bc6-4608-8528-80247c08137e"
      },
      "outputs": [
        {
          "output_type": "execute_result",
          "data": {
            "text/plain": [
              "count    543897.000000\n",
              "mean       7498.632800\n",
              "std        5007.166883\n",
              "min           3.000000\n",
              "25%         677.000000\n",
              "50%       10966.000000\n",
              "75%       11080.000000\n",
              "max       16209.000000\n",
              "Name: admin_id, dtype: float64"
            ]
          },
          "metadata": {},
          "execution_count": 36
        }
      ],
      "source": [
        "def convert_admin_id(x):\n",
        "  try:\n",
        "    return float(x)\n",
        "  except:\n",
        "    return nan\n",
        "\n",
        "df['admin_id'] = df['admin_id'].apply(convert_admin_id) #do as float type\n",
        "df['admin_id'].describe()"
      ]
    },
    {
      "cell_type": "markdown",
      "metadata": {
        "id": "C0r7d7vi_NAk"
      },
      "source": [
        "**traval_history_binary**"
      ]
    },
    {
      "cell_type": "code",
      "execution_count": 37,
      "metadata": {
        "colab": {
          "base_uri": "https://localhost:8080/"
        },
        "id": "O6RRbqYM_L-X",
        "outputId": "9e5c8dce-3f59-41de-a0b4-9f675804b437"
      },
      "outputs": [
        {
          "output_type": "execute_result",
          "data": {
            "text/plain": [
              "False    457580\n",
              "True      86359\n",
              "Name: travel_history_binary, dtype: int64"
            ]
          },
          "metadata": {},
          "execution_count": 37
        }
      ],
      "source": [
        "def convert_travel_history_binary(x):\n",
        "  if (str(x) == 'True') | (bool(x) == True):\n",
        "    return True\n",
        "  elif (str(x) == 'False') | (bool(x) == False) | (str(x) == 'Faalse'):\n",
        "    return False\n",
        "  return nan\n",
        "\n",
        "df['travel_history_binary'] = df['travel_history_binary'].apply(convert_travel_history_binary) # do as bool type\n",
        "df['travel_history_binary'].value_counts(dropna=False)"
      ]
    },
    {
      "cell_type": "code",
      "execution_count": null,
      "metadata": {
        "colab": {
          "base_uri": "https://localhost:8080/"
        },
        "id": "s60VRlrnDEKd",
        "outputId": "754535b4-38c7-4229-b21b-b3f8397e2cb6"
      },
      "outputs": [
        {
          "output_type": "stream",
          "name": "stdout",
          "text": [
            "<class 'pandas.core.frame.DataFrame'>\n",
            "Int64Index: 492770 entries, 0 to 492770\n",
            "Data columns (total 33 columns):\n",
            " #   Column                    Non-Null Count   Dtype         \n",
            "---  ------                    --------------   -----         \n",
            " 0   ID                        492770 non-null  object        \n",
            " 1   age                       2058 non-null    float64       \n",
            " 2   sex                       70597 non-null   object        \n",
            " 3   city                      344462 non-null  object        \n",
            " 4   province                  436018 non-null  object        \n",
            " 5   country                   492675 non-null  object        \n",
            " 6   latitude                  492729 non-null  float64       \n",
            " 7   longitude                 492729 non-null  float64       \n",
            " 8   geo_resolution            492729 non-null  object        \n",
            " 9   date_onset_symptoms       9569 non-null    object        \n",
            " 10  date_admission_hospital   1861 non-null    object        \n",
            " 11  date_confirmation         489650 non-null  datetime64[ns]\n",
            " 12  symptoms                  1911 non-null    object        \n",
            " 13  lives_in_Wuhan            1884 non-null    object        \n",
            " 14  travel_history_dates      1660 non-null    object        \n",
            " 15  travel_history_location   3988 non-null    object        \n",
            " 16  reported_market_exposure  546 non-null     object        \n",
            " 17  additional_information    43388 non-null   object        \n",
            " 18  chronic_disease_binary    492770 non-null  bool          \n",
            " 19  chronic_disease           144 non-null     object        \n",
            " 20  source                    460227 non-null  object        \n",
            " 21  sequence_available        4 non-null       object        \n",
            " 22  outcome                   492770 non-null  object        \n",
            " 23  date_death_or_discharge   1179 non-null    datetime64[ns]\n",
            " 24  notes_for_discussion      636 non-null     object        \n",
            " 25  location                  10367 non-null   object        \n",
            " 26  admin3                    4669 non-null    object        \n",
            " 27  admin2                    52692 non-null   object        \n",
            " 28  admin1                    143177 non-null  object        \n",
            " 29  country_new               480234 non-null  object        \n",
            " 30  admin_id                  492728 non-null  float64       \n",
            " 31  data_moderator_initials   317924 non-null  object        \n",
            " 32  travel_history_binary     492770 non-null  bool          \n",
            "dtypes: bool(2), datetime64[ns](2), float64(4), object(25)\n",
            "memory usage: 121.2+ MB\n"
          ]
        }
      ],
      "source": [
        "df.info()"
      ]
    },
    {
      "cell_type": "code",
      "execution_count": 39,
      "metadata": {
        "id": "fVUf2JzcfLtg"
      },
      "outputs": [],
      "source": [
        "df[['lives_in_Wuhan', 'reported_market_exposure', 'chronic_disease_binary', 'travel_history_binary']] = df[['lives_in_Wuhan', 'reported_market_exposure', 'chronic_disease_binary', 'travel_history_binary']].astype(float)"
      ]
    },
    {
      "cell_type": "code",
      "execution_count": 41,
      "metadata": {
        "id": "LyC1x9jGgVaI"
      },
      "outputs": [],
      "source": [
        "def convert_outcome(x):\n",
        "  if x == 'died':\n",
        "    return 0\n",
        "  return 1\n",
        "\n",
        "df['outcome'] = df['outcome'].apply(convert_outcome)"
      ]
    },
    {
      "cell_type": "code",
      "source": [
        "def convert_sex(x):\n",
        "  if x == 'male':\n",
        "    return 0\n",
        "  if x == 'female':\n",
        "    return 1\n",
        "\n",
        "df['sex'] = df['sex'].apply(convert_sex)"
      ],
      "metadata": {
        "id": "GhnAbjqcorpU"
      },
      "execution_count": 42,
      "outputs": []
    },
    {
      "cell_type": "code",
      "source": [
        "df['lives_in_Wuhan'].value_counts(dropna=False)"
      ],
      "metadata": {
        "id": "BOAqUiQCpxLt",
        "outputId": "e788edba-0abf-42e1-c1a1-408c8bb056dc",
        "colab": {
          "base_uri": "https://localhost:8080/"
        }
      },
      "execution_count": 40,
      "outputs": [
        {
          "output_type": "execute_result",
          "data": {
            "text/plain": [
              "NaN    542044\n",
              "0.0      1345\n",
              "1.0       550\n",
              "Name: lives_in_Wuhan, dtype: int64"
            ]
          },
          "metadata": {},
          "execution_count": 40
        }
      ]
    },
    {
      "cell_type": "markdown",
      "metadata": {
        "id": "Q-1UhJwTV4KZ"
      },
      "source": [
        "**A.**"
      ]
    },
    {
      "cell_type": "code",
      "execution_count": 43,
      "metadata": {
        "colab": {
          "base_uri": "https://localhost:8080/",
          "height": 363
        },
        "id": "H4-ZBkecV1em",
        "outputId": "3b3835bc-0e66-487b-b58a-6d4659ae24b0"
      },
      "outputs": [
        {
          "output_type": "execute_result",
          "data": {
            "text/plain": [
              "                               age       sex  latitude  longitude  \\\n",
              "age                       1.000000  0.362597  0.898812  -0.915193   \n",
              "sex                       0.362597  1.000000  0.160985  -0.132888   \n",
              "latitude                  0.898812  0.160985  1.000000  -0.421882   \n",
              "longitude                -0.915193 -0.132888 -0.421882   1.000000   \n",
              "lives_in_Wuhan           -0.018576 -0.028405  0.331750   0.483490   \n",
              "reported_market_exposure       NaN -0.086793  0.204666   0.212779   \n",
              "chronic_disease_binary   -0.023103 -0.010823 -0.005733   0.011772   \n",
              "outcome                        NaN  0.014811  0.030164  -0.050925   \n",
              "admin_id                  0.037949 -0.001981 -0.198215   0.339406   \n",
              "travel_history_binary    -0.277332 -0.013236  0.232659   0.035834   \n",
              "\n",
              "                          lives_in_Wuhan  reported_market_exposure  \\\n",
              "age                            -0.018576                       NaN   \n",
              "sex                            -0.028405                 -0.086793   \n",
              "latitude                        0.331750                  0.204666   \n",
              "longitude                       0.483490                  0.212779   \n",
              "lives_in_Wuhan                  1.000000                  0.328175   \n",
              "reported_market_exposure        0.328175                  1.000000   \n",
              "chronic_disease_binary          0.083534                 -0.011734   \n",
              "outcome                        -0.220985                  0.005209   \n",
              "admin_id                       -0.068596                 -0.122266   \n",
              "travel_history_binary           0.048863                       NaN   \n",
              "\n",
              "                          chronic_disease_binary   outcome  admin_id  \\\n",
              "age                                    -0.023103       NaN  0.037949   \n",
              "sex                                    -0.010823  0.014811 -0.001981   \n",
              "latitude                               -0.005733  0.030164 -0.198215   \n",
              "longitude                               0.011772 -0.050925  0.339406   \n",
              "lives_in_Wuhan                          0.083534 -0.220985 -0.068596   \n",
              "reported_market_exposure               -0.011734  0.005209 -0.122266   \n",
              "chronic_disease_binary                  1.000000 -0.255550 -0.003717   \n",
              "outcome                                -0.255550  1.000000  0.005688   \n",
              "admin_id                               -0.003717  0.005688  1.000000   \n",
              "travel_history_binary                   0.033164 -0.000870 -0.231863   \n",
              "\n",
              "                          travel_history_binary  \n",
              "age                                   -0.277332  \n",
              "sex                                   -0.013236  \n",
              "latitude                               0.232659  \n",
              "longitude                              0.035834  \n",
              "lives_in_Wuhan                         0.048863  \n",
              "reported_market_exposure                    NaN  \n",
              "chronic_disease_binary                 0.033164  \n",
              "outcome                               -0.000870  \n",
              "admin_id                              -0.231863  \n",
              "travel_history_binary                  1.000000  "
            ],
            "text/html": [
              "\n",
              "  <div id=\"df-6a553fab-dc63-476f-b1d4-2542836e94a5\">\n",
              "    <div class=\"colab-df-container\">\n",
              "      <div>\n",
              "<style scoped>\n",
              "    .dataframe tbody tr th:only-of-type {\n",
              "        vertical-align: middle;\n",
              "    }\n",
              "\n",
              "    .dataframe tbody tr th {\n",
              "        vertical-align: top;\n",
              "    }\n",
              "\n",
              "    .dataframe thead th {\n",
              "        text-align: right;\n",
              "    }\n",
              "</style>\n",
              "<table border=\"1\" class=\"dataframe\">\n",
              "  <thead>\n",
              "    <tr style=\"text-align: right;\">\n",
              "      <th></th>\n",
              "      <th>age</th>\n",
              "      <th>sex</th>\n",
              "      <th>latitude</th>\n",
              "      <th>longitude</th>\n",
              "      <th>lives_in_Wuhan</th>\n",
              "      <th>reported_market_exposure</th>\n",
              "      <th>chronic_disease_binary</th>\n",
              "      <th>outcome</th>\n",
              "      <th>admin_id</th>\n",
              "      <th>travel_history_binary</th>\n",
              "    </tr>\n",
              "  </thead>\n",
              "  <tbody>\n",
              "    <tr>\n",
              "      <th>age</th>\n",
              "      <td>1.000000</td>\n",
              "      <td>0.362597</td>\n",
              "      <td>0.898812</td>\n",
              "      <td>-0.915193</td>\n",
              "      <td>-0.018576</td>\n",
              "      <td>NaN</td>\n",
              "      <td>-0.023103</td>\n",
              "      <td>NaN</td>\n",
              "      <td>0.037949</td>\n",
              "      <td>-0.277332</td>\n",
              "    </tr>\n",
              "    <tr>\n",
              "      <th>sex</th>\n",
              "      <td>0.362597</td>\n",
              "      <td>1.000000</td>\n",
              "      <td>0.160985</td>\n",
              "      <td>-0.132888</td>\n",
              "      <td>-0.028405</td>\n",
              "      <td>-0.086793</td>\n",
              "      <td>-0.010823</td>\n",
              "      <td>0.014811</td>\n",
              "      <td>-0.001981</td>\n",
              "      <td>-0.013236</td>\n",
              "    </tr>\n",
              "    <tr>\n",
              "      <th>latitude</th>\n",
              "      <td>0.898812</td>\n",
              "      <td>0.160985</td>\n",
              "      <td>1.000000</td>\n",
              "      <td>-0.421882</td>\n",
              "      <td>0.331750</td>\n",
              "      <td>0.204666</td>\n",
              "      <td>-0.005733</td>\n",
              "      <td>0.030164</td>\n",
              "      <td>-0.198215</td>\n",
              "      <td>0.232659</td>\n",
              "    </tr>\n",
              "    <tr>\n",
              "      <th>longitude</th>\n",
              "      <td>-0.915193</td>\n",
              "      <td>-0.132888</td>\n",
              "      <td>-0.421882</td>\n",
              "      <td>1.000000</td>\n",
              "      <td>0.483490</td>\n",
              "      <td>0.212779</td>\n",
              "      <td>0.011772</td>\n",
              "      <td>-0.050925</td>\n",
              "      <td>0.339406</td>\n",
              "      <td>0.035834</td>\n",
              "    </tr>\n",
              "    <tr>\n",
              "      <th>lives_in_Wuhan</th>\n",
              "      <td>-0.018576</td>\n",
              "      <td>-0.028405</td>\n",
              "      <td>0.331750</td>\n",
              "      <td>0.483490</td>\n",
              "      <td>1.000000</td>\n",
              "      <td>0.328175</td>\n",
              "      <td>0.083534</td>\n",
              "      <td>-0.220985</td>\n",
              "      <td>-0.068596</td>\n",
              "      <td>0.048863</td>\n",
              "    </tr>\n",
              "    <tr>\n",
              "      <th>reported_market_exposure</th>\n",
              "      <td>NaN</td>\n",
              "      <td>-0.086793</td>\n",
              "      <td>0.204666</td>\n",
              "      <td>0.212779</td>\n",
              "      <td>0.328175</td>\n",
              "      <td>1.000000</td>\n",
              "      <td>-0.011734</td>\n",
              "      <td>0.005209</td>\n",
              "      <td>-0.122266</td>\n",
              "      <td>NaN</td>\n",
              "    </tr>\n",
              "    <tr>\n",
              "      <th>chronic_disease_binary</th>\n",
              "      <td>-0.023103</td>\n",
              "      <td>-0.010823</td>\n",
              "      <td>-0.005733</td>\n",
              "      <td>0.011772</td>\n",
              "      <td>0.083534</td>\n",
              "      <td>-0.011734</td>\n",
              "      <td>1.000000</td>\n",
              "      <td>-0.255550</td>\n",
              "      <td>-0.003717</td>\n",
              "      <td>0.033164</td>\n",
              "    </tr>\n",
              "    <tr>\n",
              "      <th>outcome</th>\n",
              "      <td>NaN</td>\n",
              "      <td>0.014811</td>\n",
              "      <td>0.030164</td>\n",
              "      <td>-0.050925</td>\n",
              "      <td>-0.220985</td>\n",
              "      <td>0.005209</td>\n",
              "      <td>-0.255550</td>\n",
              "      <td>1.000000</td>\n",
              "      <td>0.005688</td>\n",
              "      <td>-0.000870</td>\n",
              "    </tr>\n",
              "    <tr>\n",
              "      <th>admin_id</th>\n",
              "      <td>0.037949</td>\n",
              "      <td>-0.001981</td>\n",
              "      <td>-0.198215</td>\n",
              "      <td>0.339406</td>\n",
              "      <td>-0.068596</td>\n",
              "      <td>-0.122266</td>\n",
              "      <td>-0.003717</td>\n",
              "      <td>0.005688</td>\n",
              "      <td>1.000000</td>\n",
              "      <td>-0.231863</td>\n",
              "    </tr>\n",
              "    <tr>\n",
              "      <th>travel_history_binary</th>\n",
              "      <td>-0.277332</td>\n",
              "      <td>-0.013236</td>\n",
              "      <td>0.232659</td>\n",
              "      <td>0.035834</td>\n",
              "      <td>0.048863</td>\n",
              "      <td>NaN</td>\n",
              "      <td>0.033164</td>\n",
              "      <td>-0.000870</td>\n",
              "      <td>-0.231863</td>\n",
              "      <td>1.000000</td>\n",
              "    </tr>\n",
              "  </tbody>\n",
              "</table>\n",
              "</div>\n",
              "      <button class=\"colab-df-convert\" onclick=\"convertToInteractive('df-6a553fab-dc63-476f-b1d4-2542836e94a5')\"\n",
              "              title=\"Convert this dataframe to an interactive table.\"\n",
              "              style=\"display:none;\">\n",
              "        \n",
              "  <svg xmlns=\"http://www.w3.org/2000/svg\" height=\"24px\"viewBox=\"0 0 24 24\"\n",
              "       width=\"24px\">\n",
              "    <path d=\"M0 0h24v24H0V0z\" fill=\"none\"/>\n",
              "    <path d=\"M18.56 5.44l.94 2.06.94-2.06 2.06-.94-2.06-.94-.94-2.06-.94 2.06-2.06.94zm-11 1L8.5 8.5l.94-2.06 2.06-.94-2.06-.94L8.5 2.5l-.94 2.06-2.06.94zm10 10l.94 2.06.94-2.06 2.06-.94-2.06-.94-.94-2.06-.94 2.06-2.06.94z\"/><path d=\"M17.41 7.96l-1.37-1.37c-.4-.4-.92-.59-1.43-.59-.52 0-1.04.2-1.43.59L10.3 9.45l-7.72 7.72c-.78.78-.78 2.05 0 2.83L4 21.41c.39.39.9.59 1.41.59.51 0 1.02-.2 1.41-.59l7.78-7.78 2.81-2.81c.8-.78.8-2.07 0-2.86zM5.41 20L4 18.59l7.72-7.72 1.47 1.35L5.41 20z\"/>\n",
              "  </svg>\n",
              "      </button>\n",
              "      \n",
              "  <style>\n",
              "    .colab-df-container {\n",
              "      display:flex;\n",
              "      flex-wrap:wrap;\n",
              "      gap: 12px;\n",
              "    }\n",
              "\n",
              "    .colab-df-convert {\n",
              "      background-color: #E8F0FE;\n",
              "      border: none;\n",
              "      border-radius: 50%;\n",
              "      cursor: pointer;\n",
              "      display: none;\n",
              "      fill: #1967D2;\n",
              "      height: 32px;\n",
              "      padding: 0 0 0 0;\n",
              "      width: 32px;\n",
              "    }\n",
              "\n",
              "    .colab-df-convert:hover {\n",
              "      background-color: #E2EBFA;\n",
              "      box-shadow: 0px 1px 2px rgba(60, 64, 67, 0.3), 0px 1px 3px 1px rgba(60, 64, 67, 0.15);\n",
              "      fill: #174EA6;\n",
              "    }\n",
              "\n",
              "    [theme=dark] .colab-df-convert {\n",
              "      background-color: #3B4455;\n",
              "      fill: #D2E3FC;\n",
              "    }\n",
              "\n",
              "    [theme=dark] .colab-df-convert:hover {\n",
              "      background-color: #434B5C;\n",
              "      box-shadow: 0px 1px 3px 1px rgba(0, 0, 0, 0.15);\n",
              "      filter: drop-shadow(0px 1px 2px rgba(0, 0, 0, 0.3));\n",
              "      fill: #FFFFFF;\n",
              "    }\n",
              "  </style>\n",
              "\n",
              "      <script>\n",
              "        const buttonEl =\n",
              "          document.querySelector('#df-6a553fab-dc63-476f-b1d4-2542836e94a5 button.colab-df-convert');\n",
              "        buttonEl.style.display =\n",
              "          google.colab.kernel.accessAllowed ? 'block' : 'none';\n",
              "\n",
              "        async function convertToInteractive(key) {\n",
              "          const element = document.querySelector('#df-6a553fab-dc63-476f-b1d4-2542836e94a5');\n",
              "          const dataTable =\n",
              "            await google.colab.kernel.invokeFunction('convertToInteractive',\n",
              "                                                     [key], {});\n",
              "          if (!dataTable) return;\n",
              "\n",
              "          const docLinkHtml = 'Like what you see? Visit the ' +\n",
              "            '<a target=\"_blank\" href=https://colab.research.google.com/notebooks/data_table.ipynb>data table notebook</a>'\n",
              "            + ' to learn more about interactive tables.';\n",
              "          element.innerHTML = '';\n",
              "          dataTable['output_type'] = 'display_data';\n",
              "          await google.colab.output.renderOutput(dataTable, element);\n",
              "          const docLink = document.createElement('div');\n",
              "          docLink.innerHTML = docLinkHtml;\n",
              "          element.appendChild(docLink);\n",
              "        }\n",
              "      </script>\n",
              "    </div>\n",
              "  </div>\n",
              "  "
            ]
          },
          "metadata": {},
          "execution_count": 43
        }
      ],
      "source": [
        "df.corr()"
      ]
    },
    {
      "cell_type": "markdown",
      "metadata": {
        "id": "tKQ3qvQlhL5k"
      },
      "source": [
        "**outcome** most most correlated with 'lives_in_Wuhan'(only data that can be turn into float). The correlation is negative so if lives_in_Wuhan is true more likly to die"
      ]
    },
    {
      "cell_type": "code",
      "execution_count": null,
      "metadata": {
        "id": "OTDWZ70AWkGx"
      },
      "outputs": [],
      "source": [
        "!pip install seaborn"
      ]
    },
    {
      "cell_type": "code",
      "execution_count": 22,
      "metadata": {
        "id": "Osr9EEMfWDCr"
      },
      "outputs": [],
      "source": [
        "import seaborn as sns"
      ]
    },
    {
      "cell_type": "code",
      "execution_count": 44,
      "metadata": {
        "colab": {
          "base_uri": "https://localhost:8080/",
          "height": 410
        },
        "id": "1I4pDaNDWx1l",
        "outputId": "c24da058-1941-4af2-92f3-ea9dc3843634"
      },
      "outputs": [
        {
          "output_type": "execute_result",
          "data": {
            "text/plain": [
              "<matplotlib.axes._subplots.AxesSubplot at 0x7f2b3f8a0fd0>"
            ]
          },
          "metadata": {},
          "execution_count": 44
        },
        {
          "output_type": "display_data",
          "data": {
            "text/plain": [
              "<Figure size 432x288 with 2 Axes>"
            ],
            "image/png": "[encoded data removed]"
          },
          "metadata": {
            "needs_background": "light"
          }
        }
      ],
      "source": [
        "sns.heatmap(df.corr())"
      ]
    },
    {
      "cell_type": "code",
      "execution_count": null,
      "metadata": {
        "id": "zA2tRn1gXa9L"
      },
      "outputs": [],
      "source": [
        "!pip install phik"
      ]
    },
    {
      "cell_type": "code",
      "execution_count": null,
      "metadata": {
        "id": "WCdKf1CDXfwQ"
      },
      "outputs": [],
      "source": [
        "import phik\n",
        "from phik.report import plot_correlation_matrix\n",
        "from phik import report"
      ]
    },
    {
      "cell_type": "code",
      "execution_count": null,
      "metadata": {
        "colab": {
          "base_uri": "https://localhost:8080/",
          "height": 227
        },
        "id": "Kf9WJYjxXD9_",
        "outputId": "9ef9e739-4a39-4132-ffe7-dcdb5a7072d2"
      },
      "outputs": [
        {
          "name": "stdout",
          "output_type": "stream",
          "text": [
            "interval columns not set, guessing: ['admin_id']\n"
          ]
        },
        {
          "name": "stderr",
          "output_type": "stream",
          "text": [
            "/usr/local/lib/python3.7/dist-packages/phik/data_quality.py:62: UserWarning: The number of unique values of variable admin2 is large: 2098. Are you sure this is not an interval variable? Analysis for pairs of variables including admin2 can be slow.\n",
            "  col, df[col].nunique()\n"
          ]
        },
        {
          "data": {
            "text/html": [
              "\n",
              "  <div id=\"df-ed466e55-fc15-45f2-8fee-b5e7b93e2e89\">\n",
              "    <div class=\"colab-df-container\">\n",
              "      <div>\n",
              "<style scoped>\n",
              "    .dataframe tbody tr th:only-of-type {\n",
              "        vertical-align: middle;\n",
              "    }\n",
              "\n",
              "    .dataframe tbody tr th {\n",
              "        vertical-align: top;\n",
              "    }\n",
              "\n",
              "    .dataframe thead th {\n",
              "        text-align: right;\n",
              "    }\n",
              "</style>\n",
              "<table border=\"1\" class=\"dataframe\">\n",
              "  <thead>\n",
              "    <tr style=\"text-align: right;\">\n",
              "      <th></th>\n",
              "      <th>admin3</th>\n",
              "      <th>admin2</th>\n",
              "      <th>admin1</th>\n",
              "      <th>admin_id</th>\n",
              "    </tr>\n",
              "  </thead>\n",
              "  <tbody>\n",
              "    <tr>\n",
              "      <th>admin3</th>\n",
              "      <td>1.000000</td>\n",
              "      <td>1.000000</td>\n",
              "      <td>0.999985</td>\n",
              "      <td>0.999985</td>\n",
              "    </tr>\n",
              "    <tr>\n",
              "      <th>admin2</th>\n",
              "      <td>1.000000</td>\n",
              "      <td>1.000000</td>\n",
              "      <td>0.999991</td>\n",
              "      <td>0.999246</td>\n",
              "    </tr>\n",
              "    <tr>\n",
              "      <th>admin1</th>\n",
              "      <td>0.999985</td>\n",
              "      <td>0.999991</td>\n",
              "      <td>1.000000</td>\n",
              "      <td>0.893443</td>\n",
              "    </tr>\n",
              "    <tr>\n",
              "      <th>admin_id</th>\n",
              "      <td>0.999985</td>\n",
              "      <td>0.999246</td>\n",
              "      <td>0.893443</td>\n",
              "      <td>1.000000</td>\n",
              "    </tr>\n",
              "  </tbody>\n",
              "</table>\n",
              "</div>\n",
              "      <button class=\"colab-df-convert\" onclick=\"convertToInteractive('df-ed466e55-fc15-45f2-8fee-b5e7b93e2e89')\"\n",
              "              title=\"Convert this dataframe to an interactive table.\"\n",
              "              style=\"display:none;\">\n",
              "        \n",
              "  <svg xmlns=\"http://www.w3.org/2000/svg\" height=\"24px\"viewBox=\"0 0 24 24\"\n",
              "       width=\"24px\">\n",
              "    <path d=\"M0 0h24v24H0V0z\" fill=\"none\"/>\n",
              "    <path d=\"M18.56 5.44l.94 2.06.94-2.06 2.06-.94-2.06-.94-.94-2.06-.94 2.06-2.06.94zm-11 1L8.5 8.5l.94-2.06 2.06-.94-2.06-.94L8.5 2.5l-.94 2.06-2.06.94zm10 10l.94 2.06.94-2.06 2.06-.94-2.06-.94-.94-2.06-.94 2.06-2.06.94z\"/><path d=\"M17.41 7.96l-1.37-1.37c-.4-.4-.92-.59-1.43-.59-.52 0-1.04.2-1.43.59L10.3 9.45l-7.72 7.72c-.78.78-.78 2.05 0 2.83L4 21.41c.39.39.9.59 1.41.59.51 0 1.02-.2 1.41-.59l7.78-7.78 2.81-2.81c.8-.78.8-2.07 0-2.86zM5.41 20L4 18.59l7.72-7.72 1.47 1.35L5.41 20z\"/>\n",
              "  </svg>\n",
              "      </button>\n",
              "      \n",
              "  <style>\n",
              "    .colab-df-container {\n",
              "      display:flex;\n",
              "      flex-wrap:wrap;\n",
              "      gap: 12px;\n",
              "    }\n",
              "\n",
              "    .colab-df-convert {\n",
              "      background-color: #E8F0FE;\n",
              "      border: none;\n",
              "      border-radius: 50%;\n",
              "      cursor: pointer;\n",
              "      display: none;\n",
              "      fill: #1967D2;\n",
              "      height: 32px;\n",
              "      padding: 0 0 0 0;\n",
              "      width: 32px;\n",
              "    }\n",
              "\n",
              "    .colab-df-convert:hover {\n",
              "      background-color: #E2EBFA;\n",
              "      box-shadow: 0px 1px 2px rgba(60, 64, 67, 0.3), 0px 1px 3px 1px rgba(60, 64, 67, 0.15);\n",
              "      fill: #174EA6;\n",
              "    }\n",
              "\n",
              "    [theme=dark] .colab-df-convert {\n",
              "      background-color: #3B4455;\n",
              "      fill: #D2E3FC;\n",
              "    }\n",
              "\n",
              "    [theme=dark] .colab-df-convert:hover {\n",
              "      background-color: #434B5C;\n",
              "      box-shadow: 0px 1px 3px 1px rgba(0, 0, 0, 0.15);\n",
              "      filter: drop-shadow(0px 1px 2px rgba(0, 0, 0, 0.3));\n",
              "      fill: #FFFFFF;\n",
              "    }\n",
              "  </style>\n",
              "\n",
              "      <script>\n",
              "        const buttonEl =\n",
              "          document.querySelector('#df-ed466e55-fc15-45f2-8fee-b5e7b93e2e89 button.colab-df-convert');\n",
              "        buttonEl.style.display =\n",
              "          google.colab.kernel.accessAllowed ? 'block' : 'none';\n",
              "\n",
              "        async function convertToInteractive(key) {\n",
              "          const element = document.querySelector('#df-ed466e55-fc15-45f2-8fee-b5e7b93e2e89');\n",
              "          const dataTable =\n",
              "            await google.colab.kernel.invokeFunction('convertToInteractive',\n",
              "                                                     [key], {});\n",
              "          if (!dataTable) return;\n",
              "\n",
              "          const docLinkHtml = 'Like what you see? Visit the ' +\n",
              "            '<a target=\"_blank\" href=https://colab.research.google.com/notebooks/data_table.ipynb>data table notebook</a>'\n",
              "            + ' to learn more about interactive tables.';\n",
              "          element.innerHTML = '';\n",
              "          dataTable['output_type'] = 'display_data';\n",
              "          await google.colab.output.renderOutput(dataTable, element);\n",
              "          const docLink = document.createElement('div');\n",
              "          docLink.innerHTML = docLinkHtml;\n",
              "          element.appendChild(docLink);\n",
              "        }\n",
              "      </script>\n",
              "    </div>\n",
              "  </div>\n",
              "  "
            ],
            "text/plain": [
              "            admin3    admin2    admin1  admin_id\n",
              "admin3    1.000000  1.000000  0.999985  0.999985\n",
              "admin2    1.000000  1.000000  0.999991  0.999246\n",
              "admin1    0.999985  0.999991  1.000000  0.893443\n",
              "admin_id  0.999985  0.999246  0.893443  1.000000"
            ]
          },
          "execution_count": 48,
          "metadata": {},
          "output_type": "execute_result"
        }
      ],
      "source": [
        "df[['admin3', 'admin2', 'admin1', 'admin_id']].phik_matrix()"
      ]
    },
    {
      "cell_type": "markdown",
      "metadata": {
        "id": "J3ngNZCxYUS-"
      },
      "source": [
        "I will take admin_id."
      ]
    },
    {
      "cell_type": "code",
      "execution_count": null,
      "metadata": {
        "colab": {
          "base_uri": "https://localhost:8080/"
        },
        "id": "Ojk4_k2AYVum",
        "outputId": "213aa5cc-ede1-4d27-ab9b-6035487c099f"
      },
      "outputs": [
        {
          "name": "stdout",
          "output_type": "stream",
          "text": [
            "interval columns not set, guessing: ['age', 'admin_id']\n"
          ]
        },
        {
          "name": "stderr",
          "output_type": "stream",
          "text": [
            "/usr/local/lib/python3.7/dist-packages/phik/data_quality.py:74: UserWarning: Not enough unique value for variable age for analysis 0. Dropping this column\n",
            "  col, df[col].nunique()\n",
            "/usr/local/lib/python3.7/dist-packages/phik/data_quality.py:84: UserWarning: Not enough unique value for variable reported_market_exposure for analysis 1. Dropping this column\n",
            "  col, df[col].nunique()\n"
          ]
        }
      ],
      "source": [
        "t = df[['age', 'sex', 'geo_resolution', 'date_onset_symptoms',\n",
        "       'date_admission_hospital', 'date_confirmation', 'symptoms',\n",
        "       'lives_in_Wuhan', 'travel_history_dates', 'travel_history_location',\n",
        "       'reported_market_exposure',\n",
        "       'chronic_disease_binary', 'chronic_disease',\n",
        "       'outcome', 'date_death_or_discharge',\n",
        "       'notes_for_discussion',\n",
        "       'country_new', 'admin_id', 'data_moderator_initials']].head(46396).phik_matrix()"
      ]
    },
    {
      "cell_type": "code",
      "execution_count": null,
      "metadata": {
        "colab": {
          "base_uri": "https://localhost:8080/",
          "height": 646
        },
        "id": "ANsZDT7yYhl3",
        "outputId": "ea443b99-4d8a-43c1-8c46-ee48be3781a3"
      },
      "outputs": [
        {
          "data": {
            "text/html": [
              "\n",
              "  <div id=\"df-6a004559-8908-49cf-8cbb-8e71e563e8b3\">\n",
              "    <div class=\"colab-df-container\">\n",
              "      <div>\n",
              "<style scoped>\n",
              "    .dataframe tbody tr th:only-of-type {\n",
              "        vertical-align: middle;\n",
              "    }\n",
              "\n",
              "    .dataframe tbody tr th {\n",
              "        vertical-align: top;\n",
              "    }\n",
              "\n",
              "    .dataframe thead th {\n",
              "        text-align: right;\n",
              "    }\n",
              "</style>\n",
              "<table border=\"1\" class=\"dataframe\">\n",
              "  <thead>\n",
              "    <tr style=\"text-align: right;\">\n",
              "      <th></th>\n",
              "      <th>sex</th>\n",
              "      <th>geo_resolution</th>\n",
              "      <th>date_onset_symptoms</th>\n",
              "      <th>date_admission_hospital</th>\n",
              "      <th>date_confirmation</th>\n",
              "      <th>symptoms</th>\n",
              "      <th>lives_in_Wuhan</th>\n",
              "      <th>travel_history_dates</th>\n",
              "      <th>travel_history_location</th>\n",
              "      <th>chronic_disease_binary</th>\n",
              "      <th>chronic_disease</th>\n",
              "      <th>outcome</th>\n",
              "      <th>date_death_or_discharge</th>\n",
              "      <th>notes_for_discussion</th>\n",
              "      <th>country_new</th>\n",
              "      <th>admin_id</th>\n",
              "      <th>data_moderator_initials</th>\n",
              "    </tr>\n",
              "  </thead>\n",
              "  <tbody>\n",
              "    <tr>\n",
              "      <th>sex</th>\n",
              "      <td>1.000000</td>\n",
              "      <td>0.012847</td>\n",
              "      <td>0.163904</td>\n",
              "      <td>0.085201</td>\n",
              "      <td>0.081697</td>\n",
              "      <td>0.000000</td>\n",
              "      <td>0.000000</td>\n",
              "      <td>0.135738</td>\n",
              "      <td>0.163571</td>\n",
              "      <td>0.000000</td>\n",
              "      <td>1.0</td>\n",
              "      <td>0.016197</td>\n",
              "      <td>0.328079</td>\n",
              "      <td>0.394929</td>\n",
              "      <td>0.080941</td>\n",
              "      <td>0.018221</td>\n",
              "      <td>NaN</td>\n",
              "    </tr>\n",
              "    <tr>\n",
              "      <th>geo_resolution</th>\n",
              "      <td>0.012847</td>\n",
              "      <td>1.000000</td>\n",
              "      <td>0.715650</td>\n",
              "      <td>0.739685</td>\n",
              "      <td>0.855063</td>\n",
              "      <td>0.790133</td>\n",
              "      <td>0.361226</td>\n",
              "      <td>0.796619</td>\n",
              "      <td>0.773350</td>\n",
              "      <td>0.024964</td>\n",
              "      <td>1.0</td>\n",
              "      <td>0.021828</td>\n",
              "      <td>0.730314</td>\n",
              "      <td>0.998952</td>\n",
              "      <td>0.948084</td>\n",
              "      <td>0.802675</td>\n",
              "      <td>0.0</td>\n",
              "    </tr>\n",
              "    <tr>\n",
              "      <th>date_onset_symptoms</th>\n",
              "      <td>0.163904</td>\n",
              "      <td>0.715650</td>\n",
              "      <td>1.000000</td>\n",
              "      <td>0.955236</td>\n",
              "      <td>0.907068</td>\n",
              "      <td>0.947034</td>\n",
              "      <td>0.386858</td>\n",
              "      <td>0.962635</td>\n",
              "      <td>0.967903</td>\n",
              "      <td>0.000000</td>\n",
              "      <td>1.0</td>\n",
              "      <td>0.000000</td>\n",
              "      <td>0.707409</td>\n",
              "      <td>1.000000</td>\n",
              "      <td>0.634179</td>\n",
              "      <td>0.513697</td>\n",
              "      <td>NaN</td>\n",
              "    </tr>\n",
              "    <tr>\n",
              "      <th>date_admission_hospital</th>\n",
              "      <td>0.085201</td>\n",
              "      <td>0.739685</td>\n",
              "      <td>0.955236</td>\n",
              "      <td>1.000000</td>\n",
              "      <td>0.973342</td>\n",
              "      <td>0.893367</td>\n",
              "      <td>0.687136</td>\n",
              "      <td>0.974984</td>\n",
              "      <td>0.971907</td>\n",
              "      <td>0.204202</td>\n",
              "      <td>1.0</td>\n",
              "      <td>0.000000</td>\n",
              "      <td>0.866765</td>\n",
              "      <td>1.000000</td>\n",
              "      <td>0.870809</td>\n",
              "      <td>0.493282</td>\n",
              "      <td>NaN</td>\n",
              "    </tr>\n",
              "    <tr>\n",
              "      <th>date_confirmation</th>\n",
              "      <td>0.081697</td>\n",
              "      <td>0.855063</td>\n",
              "      <td>0.907068</td>\n",
              "      <td>0.973342</td>\n",
              "      <td>1.000000</td>\n",
              "      <td>0.918075</td>\n",
              "      <td>0.730448</td>\n",
              "      <td>0.973070</td>\n",
              "      <td>0.972601</td>\n",
              "      <td>0.270510</td>\n",
              "      <td>1.0</td>\n",
              "      <td>0.187500</td>\n",
              "      <td>0.893868</td>\n",
              "      <td>0.996772</td>\n",
              "      <td>0.920014</td>\n",
              "      <td>0.790286</td>\n",
              "      <td>1.0</td>\n",
              "    </tr>\n",
              "    <tr>\n",
              "      <th>symptoms</th>\n",
              "      <td>0.000000</td>\n",
              "      <td>0.790133</td>\n",
              "      <td>0.947034</td>\n",
              "      <td>0.893367</td>\n",
              "      <td>0.918075</td>\n",
              "      <td>1.000000</td>\n",
              "      <td>0.077265</td>\n",
              "      <td>0.944703</td>\n",
              "      <td>0.962208</td>\n",
              "      <td>0.939328</td>\n",
              "      <td>1.0</td>\n",
              "      <td>0.554289</td>\n",
              "      <td>0.971803</td>\n",
              "      <td>1.000000</td>\n",
              "      <td>0.971571</td>\n",
              "      <td>0.846379</td>\n",
              "      <td>NaN</td>\n",
              "    </tr>\n",
              "    <tr>\n",
              "      <th>lives_in_Wuhan</th>\n",
              "      <td>0.000000</td>\n",
              "      <td>0.361226</td>\n",
              "      <td>0.386858</td>\n",
              "      <td>0.687136</td>\n",
              "      <td>0.730448</td>\n",
              "      <td>0.077265</td>\n",
              "      <td>1.000000</td>\n",
              "      <td>0.832342</td>\n",
              "      <td>0.833308</td>\n",
              "      <td>0.000000</td>\n",
              "      <td>1.0</td>\n",
              "      <td>0.121692</td>\n",
              "      <td>0.690048</td>\n",
              "      <td>1.000000</td>\n",
              "      <td>0.630927</td>\n",
              "      <td>0.071100</td>\n",
              "      <td>NaN</td>\n",
              "    </tr>\n",
              "    <tr>\n",
              "      <th>travel_history_dates</th>\n",
              "      <td>0.135738</td>\n",
              "      <td>0.796619</td>\n",
              "      <td>0.962635</td>\n",
              "      <td>0.974984</td>\n",
              "      <td>0.973070</td>\n",
              "      <td>0.944703</td>\n",
              "      <td>0.832342</td>\n",
              "      <td>1.000000</td>\n",
              "      <td>0.984934</td>\n",
              "      <td>0.000000</td>\n",
              "      <td>1.0</td>\n",
              "      <td>0.584254</td>\n",
              "      <td>0.974096</td>\n",
              "      <td>1.000000</td>\n",
              "      <td>0.898028</td>\n",
              "      <td>0.894948</td>\n",
              "      <td>NaN</td>\n",
              "    </tr>\n",
              "    <tr>\n",
              "      <th>travel_history_location</th>\n",
              "      <td>0.163571</td>\n",
              "      <td>0.773350</td>\n",
              "      <td>0.967903</td>\n",
              "      <td>0.971907</td>\n",
              "      <td>0.972601</td>\n",
              "      <td>0.962208</td>\n",
              "      <td>0.833308</td>\n",
              "      <td>0.984934</td>\n",
              "      <td>1.000000</td>\n",
              "      <td>0.000000</td>\n",
              "      <td>1.0</td>\n",
              "      <td>0.000000</td>\n",
              "      <td>0.969699</td>\n",
              "      <td>1.000000</td>\n",
              "      <td>0.974497</td>\n",
              "      <td>0.759988</td>\n",
              "      <td>NaN</td>\n",
              "    </tr>\n",
              "    <tr>\n",
              "      <th>chronic_disease_binary</th>\n",
              "      <td>0.000000</td>\n",
              "      <td>0.024964</td>\n",
              "      <td>0.000000</td>\n",
              "      <td>0.204202</td>\n",
              "      <td>0.270510</td>\n",
              "      <td>0.939328</td>\n",
              "      <td>0.000000</td>\n",
              "      <td>0.000000</td>\n",
              "      <td>0.000000</td>\n",
              "      <td>1.000000</td>\n",
              "      <td>1.0</td>\n",
              "      <td>0.093339</td>\n",
              "      <td>0.865569</td>\n",
              "      <td>NaN</td>\n",
              "      <td>0.466573</td>\n",
              "      <td>0.042103</td>\n",
              "      <td>NaN</td>\n",
              "    </tr>\n",
              "    <tr>\n",
              "      <th>chronic_disease</th>\n",
              "      <td>1.000000</td>\n",
              "      <td>1.000000</td>\n",
              "      <td>1.000000</td>\n",
              "      <td>1.000000</td>\n",
              "      <td>1.000000</td>\n",
              "      <td>1.000000</td>\n",
              "      <td>1.000000</td>\n",
              "      <td>1.000000</td>\n",
              "      <td>1.000000</td>\n",
              "      <td>1.000000</td>\n",
              "      <td>1.0</td>\n",
              "      <td>1.000000</td>\n",
              "      <td>1.000000</td>\n",
              "      <td>NaN</td>\n",
              "      <td>1.000000</td>\n",
              "      <td>1.000000</td>\n",
              "      <td>NaN</td>\n",
              "    </tr>\n",
              "    <tr>\n",
              "      <th>outcome</th>\n",
              "      <td>0.016197</td>\n",
              "      <td>0.021828</td>\n",
              "      <td>0.000000</td>\n",
              "      <td>0.000000</td>\n",
              "      <td>0.187500</td>\n",
              "      <td>0.554289</td>\n",
              "      <td>0.121692</td>\n",
              "      <td>0.584254</td>\n",
              "      <td>0.000000</td>\n",
              "      <td>0.093339</td>\n",
              "      <td>1.0</td>\n",
              "      <td>1.000000</td>\n",
              "      <td>0.675138</td>\n",
              "      <td>1.000000</td>\n",
              "      <td>0.215913</td>\n",
              "      <td>0.045267</td>\n",
              "      <td>NaN</td>\n",
              "    </tr>\n",
              "    <tr>\n",
              "      <th>date_death_or_discharge</th>\n",
              "      <td>0.328079</td>\n",
              "      <td>0.730314</td>\n",
              "      <td>0.707409</td>\n",
              "      <td>0.866765</td>\n",
              "      <td>0.893868</td>\n",
              "      <td>0.971803</td>\n",
              "      <td>0.690048</td>\n",
              "      <td>0.974096</td>\n",
              "      <td>0.969699</td>\n",
              "      <td>0.865569</td>\n",
              "      <td>1.0</td>\n",
              "      <td>0.675138</td>\n",
              "      <td>1.000000</td>\n",
              "      <td>1.000000</td>\n",
              "      <td>0.931805</td>\n",
              "      <td>0.390302</td>\n",
              "      <td>NaN</td>\n",
              "    </tr>\n",
              "    <tr>\n",
              "      <th>notes_for_discussion</th>\n",
              "      <td>0.394929</td>\n",
              "      <td>0.998952</td>\n",
              "      <td>1.000000</td>\n",
              "      <td>1.000000</td>\n",
              "      <td>0.996772</td>\n",
              "      <td>1.000000</td>\n",
              "      <td>1.000000</td>\n",
              "      <td>1.000000</td>\n",
              "      <td>1.000000</td>\n",
              "      <td>NaN</td>\n",
              "      <td>NaN</td>\n",
              "      <td>1.000000</td>\n",
              "      <td>1.000000</td>\n",
              "      <td>1.000000</td>\n",
              "      <td>1.000000</td>\n",
              "      <td>0.869157</td>\n",
              "      <td>NaN</td>\n",
              "    </tr>\n",
              "    <tr>\n",
              "      <th>country_new</th>\n",
              "      <td>0.080941</td>\n",
              "      <td>0.948084</td>\n",
              "      <td>0.634179</td>\n",
              "      <td>0.870809</td>\n",
              "      <td>0.920014</td>\n",
              "      <td>0.971571</td>\n",
              "      <td>0.630927</td>\n",
              "      <td>0.898028</td>\n",
              "      <td>0.974497</td>\n",
              "      <td>0.466573</td>\n",
              "      <td>1.0</td>\n",
              "      <td>0.215913</td>\n",
              "      <td>0.931805</td>\n",
              "      <td>1.000000</td>\n",
              "      <td>1.000000</td>\n",
              "      <td>0.881437</td>\n",
              "      <td>1.0</td>\n",
              "    </tr>\n",
              "    <tr>\n",
              "      <th>admin_id</th>\n",
              "      <td>0.018221</td>\n",
              "      <td>0.802675</td>\n",
              "      <td>0.513697</td>\n",
              "      <td>0.493282</td>\n",
              "      <td>0.790286</td>\n",
              "      <td>0.846379</td>\n",
              "      <td>0.071100</td>\n",
              "      <td>0.894948</td>\n",
              "      <td>0.759988</td>\n",
              "      <td>0.042103</td>\n",
              "      <td>1.0</td>\n",
              "      <td>0.045267</td>\n",
              "      <td>0.390302</td>\n",
              "      <td>0.869157</td>\n",
              "      <td>0.881437</td>\n",
              "      <td>1.000000</td>\n",
              "      <td>1.0</td>\n",
              "    </tr>\n",
              "    <tr>\n",
              "      <th>data_moderator_initials</th>\n",
              "      <td>NaN</td>\n",
              "      <td>0.000000</td>\n",
              "      <td>NaN</td>\n",
              "      <td>NaN</td>\n",
              "      <td>1.000000</td>\n",
              "      <td>NaN</td>\n",
              "      <td>NaN</td>\n",
              "      <td>NaN</td>\n",
              "      <td>NaN</td>\n",
              "      <td>NaN</td>\n",
              "      <td>NaN</td>\n",
              "      <td>NaN</td>\n",
              "      <td>NaN</td>\n",
              "      <td>NaN</td>\n",
              "      <td>1.000000</td>\n",
              "      <td>1.000000</td>\n",
              "      <td>1.0</td>\n",
              "    </tr>\n",
              "  </tbody>\n",
              "</table>\n",
              "</div>\n",
              "      <button class=\"colab-df-convert\" onclick=\"convertToInteractive('df-6a004559-8908-49cf-8cbb-8e71e563e8b3')\"\n",
              "              title=\"Convert this dataframe to an interactive table.\"\n",
              "              style=\"display:none;\">\n",
              "        \n",
              "  <svg xmlns=\"http://www.w3.org/2000/svg\" height=\"24px\"viewBox=\"0 0 24 24\"\n",
              "       width=\"24px\">\n",
              "    <path d=\"M0 0h24v24H0V0z\" fill=\"none\"/>\n",
              "    <path d=\"M18.56 5.44l.94 2.06.94-2.06 2.06-.94-2.06-.94-.94-2.06-.94 2.06-2.06.94zm-11 1L8.5 8.5l.94-2.06 2.06-.94-2.06-.94L8.5 2.5l-.94 2.06-2.06.94zm10 10l.94 2.06.94-2.06 2.06-.94-2.06-.94-.94-2.06-.94 2.06-2.06.94z\"/><path d=\"M17.41 7.96l-1.37-1.37c-.4-.4-.92-.59-1.43-.59-.52 0-1.04.2-1.43.59L10.3 9.45l-7.72 7.72c-.78.78-.78 2.05 0 2.83L4 21.41c.39.39.9.59 1.41.59.51 0 1.02-.2 1.41-.59l7.78-7.78 2.81-2.81c.8-.78.8-2.07 0-2.86zM5.41 20L4 18.59l7.72-7.72 1.47 1.35L5.41 20z\"/>\n",
              "  </svg>\n",
              "      </button>\n",
              "      \n",
              "  <style>\n",
              "    .colab-df-container {\n",
              "      display:flex;\n",
              "      flex-wrap:wrap;\n",
              "      gap: 12px;\n",
              "    }\n",
              "\n",
              "    .colab-df-convert {\n",
              "      background-color: #E8F0FE;\n",
              "      border: none;\n",
              "      border-radius: 50%;\n",
              "      cursor: pointer;\n",
              "      display: none;\n",
              "      fill: #1967D2;\n",
              "      height: 32px;\n",
              "      padding: 0 0 0 0;\n",
              "      width: 32px;\n",
              "    }\n",
              "\n",
              "    .colab-df-convert:hover {\n",
              "      background-color: #E2EBFA;\n",
              "      box-shadow: 0px 1px 2px rgba(60, 64, 67, 0.3), 0px 1px 3px 1px rgba(60, 64, 67, 0.15);\n",
              "      fill: #174EA6;\n",
              "    }\n",
              "\n",
              "    [theme=dark] .colab-df-convert {\n",
              "      background-color: #3B4455;\n",
              "      fill: #D2E3FC;\n",
              "    }\n",
              "\n",
              "    [theme=dark] .colab-df-convert:hover {\n",
              "      background-color: #434B5C;\n",
              "      box-shadow: 0px 1px 3px 1px rgba(0, 0, 0, 0.15);\n",
              "      filter: drop-shadow(0px 1px 2px rgba(0, 0, 0, 0.3));\n",
              "      fill: #FFFFFF;\n",
              "    }\n",
              "  </style>\n",
              "\n",
              "      <script>\n",
              "        const buttonEl =\n",
              "          document.querySelector('#df-6a004559-8908-49cf-8cbb-8e71e563e8b3 button.colab-df-convert');\n",
              "        buttonEl.style.display =\n",
              "          google.colab.kernel.accessAllowed ? 'block' : 'none';\n",
              "\n",
              "        async function convertToInteractive(key) {\n",
              "          const element = document.querySelector('#df-6a004559-8908-49cf-8cbb-8e71e563e8b3');\n",
              "          const dataTable =\n",
              "            await google.colab.kernel.invokeFunction('convertToInteractive',\n",
              "                                                     [key], {});\n",
              "          if (!dataTable) return;\n",
              "\n",
              "          const docLinkHtml = 'Like what you see? Visit the ' +\n",
              "            '<a target=\"_blank\" href=https://colab.research.google.com/notebooks/data_table.ipynb>data table notebook</a>'\n",
              "            + ' to learn more about interactive tables.';\n",
              "          element.innerHTML = '';\n",
              "          dataTable['output_type'] = 'display_data';\n",
              "          await google.colab.output.renderOutput(dataTable, element);\n",
              "          const docLink = document.createElement('div');\n",
              "          docLink.innerHTML = docLinkHtml;\n",
              "          element.appendChild(docLink);\n",
              "        }\n",
              "      </script>\n",
              "    </div>\n",
              "  </div>\n",
              "  "
            ],
            "text/plain": [
              "                              sex  geo_resolution  date_onset_symptoms  \\\n",
              "sex                      1.000000        0.012847             0.163904   \n",
              "geo_resolution           0.012847        1.000000             0.715650   \n",
              "date_onset_symptoms      0.163904        0.715650             1.000000   \n",
              "date_admission_hospital  0.085201        0.739685             0.955236   \n",
              "date_confirmation        0.081697        0.855063             0.907068   \n",
              "symptoms                 0.000000        0.790133             0.947034   \n",
              "lives_in_Wuhan           0.000000        0.361226             0.386858   \n",
              "travel_history_dates     0.135738        0.796619             0.962635   \n",
              "travel_history_location  0.163571        0.773350             0.967903   \n",
              "chronic_disease_binary   0.000000        0.024964             0.000000   \n",
              "chronic_disease          1.000000        1.000000             1.000000   \n",
              "outcome                  0.016197        0.021828             0.000000   \n",
              "date_death_or_discharge  0.328079        0.730314             0.707409   \n",
              "notes_for_discussion     0.394929        0.998952             1.000000   \n",
              "country_new              0.080941        0.948084             0.634179   \n",
              "admin_id                 0.018221        0.802675             0.513697   \n",
              "data_moderator_initials       NaN        0.000000                  NaN   \n",
              "\n",
              "                         date_admission_hospital  date_confirmation  symptoms  \\\n",
              "sex                                     0.085201           0.081697  0.000000   \n",
              "geo_resolution                          0.739685           0.855063  0.790133   \n",
              "date_onset_symptoms                     0.955236           0.907068  0.947034   \n",
              "date_admission_hospital                 1.000000           0.973342  0.893367   \n",
              "date_confirmation                       0.973342           1.000000  0.918075   \n",
              "symptoms                                0.893367           0.918075  1.000000   \n",
              "lives_in_Wuhan                          0.687136           0.730448  0.077265   \n",
              "travel_history_dates                    0.974984           0.973070  0.944703   \n",
              "travel_history_location                 0.971907           0.972601  0.962208   \n",
              "chronic_disease_binary                  0.204202           0.270510  0.939328   \n",
              "chronic_disease                         1.000000           1.000000  1.000000   \n",
              "outcome                                 0.000000           0.187500  0.554289   \n",
              "date_death_or_discharge                 0.866765           0.893868  0.971803   \n",
              "notes_for_discussion                    1.000000           0.996772  1.000000   \n",
              "country_new                             0.870809           0.920014  0.971571   \n",
              "admin_id                                0.493282           0.790286  0.846379   \n",
              "data_moderator_initials                      NaN           1.000000       NaN   \n",
              "\n",
              "                         lives_in_Wuhan  travel_history_dates  \\\n",
              "sex                            0.000000              0.135738   \n",
              "geo_resolution                 0.361226              0.796619   \n",
              "date_onset_symptoms            0.386858              0.962635   \n",
              "date_admission_hospital        0.687136              0.974984   \n",
              "date_confirmation              0.730448              0.973070   \n",
              "symptoms                       0.077265              0.944703   \n",
              "lives_in_Wuhan                 1.000000              0.832342   \n",
              "travel_history_dates           0.832342              1.000000   \n",
              "travel_history_location        0.833308              0.984934   \n",
              "chronic_disease_binary         0.000000              0.000000   \n",
              "chronic_disease                1.000000              1.000000   \n",
              "outcome                        0.121692              0.584254   \n",
              "date_death_or_discharge        0.690048              0.974096   \n",
              "notes_for_discussion           1.000000              1.000000   \n",
              "country_new                    0.630927              0.898028   \n",
              "admin_id                       0.071100              0.894948   \n",
              "data_moderator_initials             NaN                   NaN   \n",
              "\n",
              "                         travel_history_location  chronic_disease_binary  \\\n",
              "sex                                     0.163571                0.000000   \n",
              "geo_resolution                          0.773350                0.024964   \n",
              "date_onset_symptoms                     0.967903                0.000000   \n",
              "date_admission_hospital                 0.971907                0.204202   \n",
              "date_confirmation                       0.972601                0.270510   \n",
              "symptoms                                0.962208                0.939328   \n",
              "lives_in_Wuhan                          0.833308                0.000000   \n",
              "travel_history_dates                    0.984934                0.000000   \n",
              "travel_history_location                 1.000000                0.000000   \n",
              "chronic_disease_binary                  0.000000                1.000000   \n",
              "chronic_disease                         1.000000                1.000000   \n",
              "outcome                                 0.000000                0.093339   \n",
              "date_death_or_discharge                 0.969699                0.865569   \n",
              "notes_for_discussion                    1.000000                     NaN   \n",
              "country_new                             0.974497                0.466573   \n",
              "admin_id                                0.759988                0.042103   \n",
              "data_moderator_initials                      NaN                     NaN   \n",
              "\n",
              "                         chronic_disease   outcome  date_death_or_discharge  \\\n",
              "sex                                  1.0  0.016197                 0.328079   \n",
              "geo_resolution                       1.0  0.021828                 0.730314   \n",
              "date_onset_symptoms                  1.0  0.000000                 0.707409   \n",
              "date_admission_hospital              1.0  0.000000                 0.866765   \n",
              "date_confirmation                    1.0  0.187500                 0.893868   \n",
              "symptoms                             1.0  0.554289                 0.971803   \n",
              "lives_in_Wuhan                       1.0  0.121692                 0.690048   \n",
              "travel_history_dates                 1.0  0.584254                 0.974096   \n",
              "travel_history_location              1.0  0.000000                 0.969699   \n",
              "chronic_disease_binary               1.0  0.093339                 0.865569   \n",
              "chronic_disease                      1.0  1.000000                 1.000000   \n",
              "outcome                              1.0  1.000000                 0.675138   \n",
              "date_death_or_discharge              1.0  0.675138                 1.000000   \n",
              "notes_for_discussion                 NaN  1.000000                 1.000000   \n",
              "country_new                          1.0  0.215913                 0.931805   \n",
              "admin_id                             1.0  0.045267                 0.390302   \n",
              "data_moderator_initials              NaN       NaN                      NaN   \n",
              "\n",
              "                         notes_for_discussion  country_new  admin_id  \\\n",
              "sex                                  0.394929     0.080941  0.018221   \n",
              "geo_resolution                       0.998952     0.948084  0.802675   \n",
              "date_onset_symptoms                  1.000000     0.634179  0.513697   \n",
              "date_admission_hospital              1.000000     0.870809  0.493282   \n",
              "date_confirmation                    0.996772     0.920014  0.790286   \n",
              "symptoms                             1.000000     0.971571  0.846379   \n",
              "lives_in_Wuhan                       1.000000     0.630927  0.071100   \n",
              "travel_history_dates                 1.000000     0.898028  0.894948   \n",
              "travel_history_location              1.000000     0.974497  0.759988   \n",
              "chronic_disease_binary                    NaN     0.466573  0.042103   \n",
              "chronic_disease                           NaN     1.000000  1.000000   \n",
              "outcome                              1.000000     0.215913  0.045267   \n",
              "date_death_or_discharge              1.000000     0.931805  0.390302   \n",
              "notes_for_discussion                 1.000000     1.000000  0.869157   \n",
              "country_new                          1.000000     1.000000  0.881437   \n",
              "admin_id                             0.869157     0.881437  1.000000   \n",
              "data_moderator_initials                   NaN     1.000000  1.000000   \n",
              "\n",
              "                         data_moderator_initials  \n",
              "sex                                          NaN  \n",
              "geo_resolution                               0.0  \n",
              "date_onset_symptoms                          NaN  \n",
              "date_admission_hospital                      NaN  \n",
              "date_confirmation                            1.0  \n",
              "symptoms                                     NaN  \n",
              "lives_in_Wuhan                               NaN  \n",
              "travel_history_dates                         NaN  \n",
              "travel_history_location                      NaN  \n",
              "chronic_disease_binary                       NaN  \n",
              "chronic_disease                              NaN  \n",
              "outcome                                      NaN  \n",
              "date_death_or_discharge                      NaN  \n",
              "notes_for_discussion                         NaN  \n",
              "country_new                                  1.0  \n",
              "admin_id                                     1.0  \n",
              "data_moderator_initials                      1.0  "
            ]
          },
          "execution_count": 56,
          "metadata": {},
          "output_type": "execute_result"
        }
      ],
      "source": [
        "t"
      ]
    },
    {
      "cell_type": "code",
      "execution_count": null,
      "metadata": {
        "colab": {
          "base_uri": "https://localhost:8080/",
          "height": 474
        },
        "id": "1mNyKrK5Yj57",
        "outputId": "61ed5c13-602f-4ba2-fa76-6f8d07844eec"
      },
      "outputs": [
        {
          "name": "stdout",
          "output_type": "stream",
          "text": [
            "interval columns not set, guessing: ['sex', 'geo_resolution', 'date_onset_symptoms', 'date_admission_hospital', 'date_confirmation', 'symptoms', 'lives_in_Wuhan', 'travel_history_dates', 'travel_history_location', 'chronic_disease_binary', 'chronic_disease', 'outcome', 'date_death_or_discharge', 'notes_for_discussion', 'country_new', 'admin_id', 'data_moderator_initials']\n"
          ]
        },
        {
          "name": "stderr",
          "output_type": "stream",
          "text": [
            "/usr/local/lib/python3.7/dist-packages/phik/data_quality.py:74: UserWarning: Not enough unique value for variable chronic_disease for analysis 1. Dropping this column\n",
            "  col, df[col].nunique()\n"
          ]
        },
        {
          "data": {
            "text/plain": [
              "<matplotlib.axes._subplots.AxesSubplot at 0x7f4431e39690>"
            ]
          },
          "execution_count": 57,
          "metadata": {},
          "output_type": "execute_result"
        },
        {
          "data": {
            "image/png": "[encoded data removed]",
            "text/plain": [
              "<Figure size 432x288 with 2 Axes>"
            ]
          },
          "metadata": {},
          "output_type": "display_data"
        }
      ],
      "source": [
        "sns.heatmap(t.head(46396).phik_matrix())"
      ]
    },
    {
      "cell_type": "markdown",
      "metadata": {
        "id": "lpozPsXTaBc6"
      },
      "source": [
        "**outcome** most binary related to:\n",
        "\n",
        "geo_resolution;\n",
        "date_admission_hospital;\n",
        "date_confirmation;\n",
        "lives_in_Wuhan;\n",
        "travel_history_dates;\n",
        "travel_history_location;\n",
        "chronic_disease;\n",
        "date_death_or_discharge;\n",
        "notes_for_discussion;\n",
        "location;\n",
        "country_new.\n"
      ]
    },
    {
      "cell_type": "markdown",
      "metadata": {
        "id": "eK34JU49cWsa"
      },
      "source": [
        "**B. PCA**"
      ]
    },
    {
      "cell_type": "markdown",
      "metadata": {
        "id": "PZ7PUwmG94TK"
      },
      "source": [
        ""
      ]
    },
    {
      "cell_type": "code",
      "execution_count": 45,
      "metadata": {
        "colab": {
          "base_uri": "https://localhost:8080/",
          "height": 390
        },
        "id": "ZC4R9S87uWtF",
        "outputId": "5b6e9fe4-7e0b-42fa-c59d-a909bda99dae"
      },
      "outputs": [
        {
          "output_type": "stream",
          "name": "stderr",
          "text": [
            "/usr/local/lib/python3.7/dist-packages/pandas/core/frame.py:3641: SettingWithCopyWarning: \n",
            "A value is trying to be set on a copy of a slice from a DataFrame.\n",
            "Try using .loc[row_indexer,col_indexer] = value instead\n",
            "\n",
            "See the caveats in the documentation: https://pandas.pydata.org/pandas-docs/stable/user_guide/indexing.html#returning-a-view-versus-a-copy\n",
            "  self[k1] = value[k2]\n"
          ]
        },
        {
          "output_type": "execute_result",
          "data": {
            "text/plain": [
              "<matplotlib.collections.PathCollection at 0x7f2b40b20a90>"
            ]
          },
          "metadata": {},
          "execution_count": 45
        },
        {
          "output_type": "display_data",
          "data": {
            "text/plain": [
              "<Figure size 432x288 with 1 Axes>"
            ],
            "image/png": "[encoded data removed]"
          },
          "metadata": {
            "needs_background": "light"
          }
        }
      ],
      "source": [
        "df_pca = df[['age',\t'latitude',\t'longitude',\t'lives_in_Wuhan',\t'reported_market_exposure',\t'chronic_disease_binary',\t'outcome',\t'admin_id',\t'travel_history_binary', 'sex']]\n",
        "\n",
        "from sklearn.preprocessing import StandardScaler\n",
        "\n",
        "t = df[['age',\t'latitude',\t'longitude',\t'lives_in_Wuhan',\t'reported_market_exposure',\t'chronic_disease_binary',\t'admin_id',\t'travel_history_binary', 'sex']]\n",
        "#fillna quantil(0.5)\n",
        "t[['lives_in_Wuhan',\t'reported_market_exposure',\t'chronic_disease_binary',\t'travel_history_binary', 'sex']] = t[['lives_in_Wuhan',\t'reported_market_exposure',\t'chronic_disease_binary',\t'travel_history_binary', 'sex']].fillna(t[['lives_in_Wuhan',\t'reported_market_exposure',\t'chronic_disease_binary',\t'travel_history_binary', 'sex']].quantile(0.5))\n",
        "#fillna mean\n",
        "t[['age',\t'latitude',\t'longitude',\t'admin_id']] = t[['age',\t'latitude',\t'longitude',\t'admin_id']].fillna(t[['age',\t'latitude',\t'longitude',\t'admin_id']].mean())\n",
        "\n",
        "\n",
        "features = ['age',\t'latitude',\t'longitude',\t'lives_in_Wuhan',\t'reported_market_exposure',\t'chronic_disease_binary',\t'admin_id',\t'travel_history_binary', 'sex']\n",
        "x = t.loc[:, features].values\n",
        "y = df.loc[:, ['outcome']].values\n",
        "\n",
        "x = StandardScaler().fit_transform(x)\n",
        "\n",
        "from sklearn.decomposition import PCA \n",
        "pca = PCA(n_components=2)\n",
        "principalComponents = pca.fit_transform(x)\n",
        "principalDataframe = pd.DataFrame(data = principalComponents, columns = ['PC1', 'PC2'])\n",
        "\n",
        "targetDataframe = df['outcome']\n",
        "\n",
        "import matplotlib.pyplot as plt \n",
        "\n",
        "newDataframe = pd.concat([principalDataframe, targetDataframe], axis =1)\n",
        "plt.scatter(principalDataframe.PC1, principalDataframe.PC2)"
      ]
    },
    {
      "cell_type": "markdown",
      "metadata": {
        "id": "3l53DvYPL9Uv"
      },
      "source": [
        "**Bayes Nets:**"
      ]
    },
    {
      "cell_type": "markdown",
      "metadata": {
        "id": "MTFUNpR1MEHf"
      },
      "source": [
        "**A**"
      ]
    },
    {
      "cell_type": "code",
      "execution_count": 108,
      "metadata": {
        "colab": {
          "base_uri": "https://localhost:8080/"
        },
        "id": "f9DbTGNVMG51",
        "outputId": "f91b17be-cf0e-4a29-e8b6-2f58e2c0e79c"
      },
      "outputs": [
        {
          "output_type": "stream",
          "name": "stdout",
          "text": [
            "date_onset_symptoms\n",
            "1                      318\n",
            "0                      235\n",
            "dtype: int64\n",
            "\n",
            "57.504520795660035 %\n"
          ]
        }
      ],
      "source": [
        "def convent_date(x):\n",
        "  if x == '':\n",
        "    return 0\n",
        "  return 1\n",
        "\n",
        "t = df[['date_onset_symptoms', 'lives_in_Wuhan']].dropna(subset=['lives_in_Wuhan'])\n",
        "t['date_onset_symptoms'] = t['date_onset_symptoms'].fillna('')\n",
        "t['date_onset_symptoms'] = t['date_onset_symptoms'].apply(convent_date)\n",
        "res = t[['date_onset_symptoms']].loc[t['lives_in_Wuhan'] == 1].value_counts()\n",
        "#probability for a person to have symptoms of COVID-19 (symptom_onset=date) if this person visited Wuhan:\n",
        "print(res)\n",
        "print()\n",
        "print(str(res[1]*100/(res[0]+res[1])) + ' %')"
      ]
    },
    {
      "cell_type": "code",
      "execution_count": 109,
      "metadata": {
        "colab": {
          "base_uri": "https://localhost:8080/"
        },
        "id": "VaVLHTCTP_kS",
        "outputId": "4ac61e61-de93-4860-d2d3-26114d2b6230"
      },
      "outputs": [
        {
          "output_type": "stream",
          "name": "stdout",
          "text": [
            "date_confirmation\n",
            "1                    286\n",
            "0                     32\n",
            "dtype: int64\n",
            "32\n",
            "89.937106918239 %\n"
          ]
        }
      ],
      "source": [
        "\n",
        "\n",
        "t = df[['date_confirmation', 'date_onset_symptoms', 'lives_in_Wuhan']].dropna(subset=['lives_in_Wuhan'])\n",
        "t['date_onset_symptoms'] = t['date_onset_symptoms'].fillna('')\n",
        "t['date_onset_symptoms'] = t['date_onset_symptoms'].apply(convent_date)\n",
        "\n",
        "t['date_confirmation'] = t['date_confirmation'].fillna('')\n",
        "t['date_confirmation'] = t['date_confirmation'].apply(convent_date)\n",
        "\n",
        "res = t[['date_confirmation']].loc[(t['lives_in_Wuhan'] == 1) & (t['date_onset_symptoms'] == 1)].value_counts()\n",
        "#probability for a person to be a true patient if this person has symptoms of COVID-19 and this person visited Wuhan\n",
        "print(res)\n",
        "print(res[0])\n",
        "print(str(res[1]*100/(res[0]+res[1])) + ' %')"
      ]
    },
    {
      "cell_type": "code",
      "execution_count": 68,
      "metadata": {
        "colab": {
          "base_uri": "https://localhost:8080/"
        },
        "id": "6i9zZzt2VNGf",
        "outputId": "bef8346c-ad6d-4f0c-8e35-a525cf3b8d3c"
      },
      "outputs": [
        {
          "output_type": "stream",
          "name": "stdout",
          "text": [
            "outcome\n",
            "1          508\n",
            "0           42\n",
            "dtype: int64\n",
            "42\n",
            "7.636363636363637 %\n"
          ]
        }
      ],
      "source": [
        "t = df[['outcome', 'lives_in_Wuhan']].dropna(subset=['lives_in_Wuhan'])\n",
        "\n",
        "res = t[['outcome']].loc[(t['lives_in_Wuhan'] == 1)].value_counts()\n",
        "#probability for a person to be a true patient if this person has symptoms of COVID-19 and this person visited Wuhan\n",
        "print(res)\n",
        "print(res[0])\n",
        "print(str(res[0]*100/(res[0]+res[1])) + ' %')"
      ]
    },
    {
      "cell_type": "code",
      "source": [
        "df['date_confirmation'] = df['date_confirmation'].apply(convent_to_date_type)\n",
        "df['date_confirmation'].describe(datetime_is_numeric=True)\n",
        "\n",
        "t = df[['date_death_or_discharge', 'date_confirmation', 'lives_in_Wuhan', 'outcome']]\n",
        "\n",
        "t = t[(t['lives_in_Wuhan'] == 1) & (t['outcome'] == 1) &(df['date_confirmation'] < df['date_death_or_discharge'])]\n",
        "\n",
        "t = t.assign(recovery = (df['date_death_or_discharge'] - df['date_confirmation']))\n",
        "#average recovery interval for a patient if this person visited Wuhan\n",
        "t['recovery'].mean()"
      ],
      "metadata": {
        "colab": {
          "base_uri": "https://localhost:8080/"
        },
        "id": "oQ8PIc95FdRo",
        "outputId": "de510afd-0920-4f6e-98df-af5ee4a3f85d"
      },
      "execution_count": 99,
      "outputs": [
        {
          "output_type": "execute_result",
          "data": {
            "text/plain": [
              "Timedelta('17 days 18:40:00')"
            ]
          },
          "metadata": {},
          "execution_count": 99
        }
      ]
    },
    {
      "cell_type": "markdown",
      "source": [
        "**Machine Learning:**"
      ],
      "metadata": {
        "id": "gPNo6oKVLCZa"
      }
    },
    {
      "cell_type": "markdown",
      "source": [
        "**A**"
      ],
      "metadata": {
        "id": "rWpGCv5KLJQQ"
      }
    },
    {
      "cell_type": "code",
      "source": [
        "t = df[['age',\t'latitude',\t'longitude',\t'lives_in_Wuhan',\t'reported_market_exposure',\t'chronic_disease_binary',\t'outcome',\t'admin_id',\t'travel_history_binary', 'sex']]\n",
        "\n",
        "t[['lives_in_Wuhan',\t'reported_market_exposure',\t'chronic_disease_binary',\t'travel_history_binary', 'sex']] = t[['lives_in_Wuhan',\t'reported_market_exposure',\t'chronic_disease_binary',\t'travel_history_binary', 'sex']].fillna(t[['lives_in_Wuhan',\t'reported_market_exposure',\t'chronic_disease_binary',\t'travel_history_binary', 'sex']].quantile(0.5))\n",
        "t[['age',\t'latitude',\t'longitude',\t'admin_id']] = t[['age',\t'latitude',\t'longitude',\t'admin_id']].fillna(t[['age',\t'latitude',\t'longitude',\t'admin_id']].mean())\n",
        "\n",
        "X = t[['age',\t'latitude',\t'longitude',\t'lives_in_Wuhan',\t'reported_market_exposure',\t'chronic_disease_binary',\t'admin_id',\t'travel_history_binary', 'sex']]\n",
        "Y = t[['outcome']]\n",
        "\n",
        "from sklearn.model_selection import train_test_split\n",
        "X_train, X_test, Y_train, Y_test = train_test_split(X, Y)\n",
        "\n",
        "from sklearn.naive_bayes import  GaussianNB\n",
        "gnb = GaussianNB()\n",
        "gnb.fit(X_train, Y_train)\n",
        " \n",
        "Y_pred = gnb.predict(X_test)\n",
        "\n",
        "from sklearn import metrics\n",
        "print(metrics.accuracy_score(Y_test, Y_pred))\n",
        "\n",
        "from sklearn.metrics import confusion_matrix\n",
        "confusion_matrix = confusion_matrix(Y_test, Y_pred)\n",
        "print(confusion_matrix)"
      ],
      "metadata": {
        "colab": {
          "base_uri": "https://localhost:8080/"
        },
        "id": "qdTcmidpLKfj",
        "outputId": "fc4f97ab-6b07-40de-b6d3-55932131db92"
      },
      "execution_count": 46,
      "outputs": [
        {
          "output_type": "stream",
          "name": "stderr",
          "text": [
            "/usr/local/lib/python3.7/dist-packages/pandas/core/frame.py:3641: SettingWithCopyWarning: \n",
            "A value is trying to be set on a copy of a slice from a DataFrame.\n",
            "Try using .loc[row_indexer,col_indexer] = value instead\n",
            "\n",
            "See the caveats in the documentation: https://pandas.pydata.org/pandas-docs/stable/user_guide/indexing.html#returning-a-view-versus-a-copy\n",
            "  self[k1] = value[k2]\n",
            "/usr/local/lib/python3.7/dist-packages/sklearn/utils/validation.py:993: DataConversionWarning: A column-vector y was passed when a 1d array was expected. Please change the shape of y to (n_samples, ), for example using ravel().\n",
            "  y = column_or_1d(y, warn=True)\n"
          ]
        },
        {
          "output_type": "stream",
          "name": "stdout",
          "text": [
            "0.9895797330587932\n",
            "[[    76    132]\n",
            " [  1285 134492]]\n"
          ]
        }
      ]
    },
    {
      "cell_type": "markdown",
      "source": [
        "TP (True Positive) = 76\n",
        "FP (False Positive) = 1285\n",
        "TN (True Negative) = 134492\n",
        "FN (False Negative) = 132\n",
        "\n",
        "to ameliorate the results we need to balance dataset\n"
      ],
      "metadata": {
        "id": "tY7s7dACNRjf"
      }
    },
    {
      "cell_type": "markdown",
      "source": [
        "**B**"
      ],
      "metadata": {
        "id": "hawyAa1PNill"
      }
    },
    {
      "cell_type": "markdown",
      "source": [
        "How you choose these variables? \n",
        "Data that is easy to convert. And non-zero values are enough\n",
        "\n",
        "\n",
        "*Can also convert 'sex' to float as it is binary data*"
      ],
      "metadata": {
        "id": "Kv6fC2cmNoyw"
      }
    },
    {
      "cell_type": "code",
      "source": [
        "from sklearn.metrics import mean_squared_error\n",
        "mean_squared_error(Y_test, Y_pred)  #the quality of the prediction "
      ],
      "metadata": {
        "colab": {
          "base_uri": "https://localhost:8080/"
        },
        "id": "BjxJEFDWNuZZ",
        "outputId": "7e45bd8f-8f19-432d-9ff6-fe947cd6f70e"
      },
      "execution_count": 47,
      "outputs": [
        {
          "output_type": "execute_result",
          "data": {
            "text/plain": [
              "0.01042026694120675"
            ]
          },
          "metadata": {},
          "execution_count": 47
        }
      ]
    },
    {
      "cell_type": "markdown",
      "source": [
        "So the model is good"
      ],
      "metadata": {
        "id": "GGDFkCfUOem-"
      }
    },
    {
      "cell_type": "markdown",
      "source": [
        ""
      ],
      "metadata": {
        "id": "flgrhD5jOYXd"
      }
    },
    {
      "cell_type": "code",
      "source": [
        "from sklearn.linear_model import LinearRegression\n",
        "\n",
        "model = LinearRegression()\n",
        "model.fit(X_train, Y_train)\n",
        "Y_pred = model.predict(X_test)\n",
        "from sklearn.metrics import mean_squared_error\n",
        "mean_squared_error(Y_test, Y_pred)"
      ],
      "metadata": {
        "colab": {
          "base_uri": "https://localhost:8080/"
        },
        "id": "aw_QAnvwPEK6",
        "outputId": "54f79edd-dd8b-44a7-8be6-78090f89971e"
      },
      "execution_count": 48,
      "outputs": [
        {
          "output_type": "execute_result",
          "data": {
            "text/plain": [
              "0.0014851349681854363"
            ]
          },
          "metadata": {},
          "execution_count": 48
        }
      ]
    },
    {
      "cell_type": "code",
      "source": [
        "from sklearn.datasets import make_blobs\n",
        "from sklearn.cluster import KMeans\n",
        "from sklearn.metrics import silhouette_score\n",
        "  \n",
        "no_of_clusters = [2, 3]\n",
        "  \n",
        "for n_clusters in no_of_clusters:\n",
        "  \n",
        "    cluster = KMeans(n_clusters = n_clusters)\n",
        "    cluster_labels = cluster.fit_predict(X)\n",
        "  \n",
        "    # The silhouette_score gives the \n",
        "    # average value for all the samples.\n",
        "    silhouette_avg = silhouette_score(X, cluster_labels)\n",
        "  \n",
        "    print(\"For no of clusters =\", n_clusters,\n",
        "          \" The average silhouette_score is :\", silhouette_avg)\n"
      ],
      "metadata": {
        "id": "TROlUdLiPSPT"
      },
      "execution_count": null,
      "outputs": []
    },
    {
      "cell_type": "markdown",
      "source": [
        "For no of clusters = 2  The average silhouette_score is : 0.6326147165920233\n",
        "For no of clusters = 3  The average silhouette_score is : 0.8214211529174442\n",
        "For no of clusters = 4  The average silhouette_score is : 0.9573427074349437\n",
        "For no of clusters = 5  The average silhouette_score is : 0.9901614490727879\n",
        "For no of clusters = 6  The average silhouette_score is : 0.9963508911481765\n",
        "For no of clusters = 7  The average silhouette_score is : 0.9987819732034104\n",
        "For no of clusters = 8  The average silhouette_score is : 0.9993909866017052\n",
        "/usr/local/lib/python3.7/dist-packages/sklearn/cluster/_kmeans.py:1255: ConvergenceWarning: Number of distinct clusters (8) found smaller than n_clusters (9). Possibly due to duplicate points in X.\n",
        "  return self.fit(X, sample_weight=sample_weight).labels_\n",
        "For no of clusters = 9  The average silhouette_score is : 0.9993909866017052"
      ],
      "metadata": {
        "id": "s_6zM2YYa-Dd"
      }
    },
    {
      "cell_type": "markdown",
      "source": [
        "**Improving the results and Theoretical formalism**\n",
        "\n",
        "**A.**\tThe data is unbalanced. You can balance it by reducing randomly the majority class. Assume that you extract randomly samples that are balanced. How the prediction results will change?\n",
        "\n",
        "The reason we get high accuracy for imbalanced data is because our models look at the data and intelligently decide that the best thing to do is to always predict the most frequently occurring value and achieve high accuracy. but on balanced data predictions are more objective\n",
        "\n",
        "\n",
        "**B.**\tHow you can better mange the missing values?\n",
        "\n",
        "depending on the data, missing values may mean a specific value, such as 0, or no criterion. missing data can be ignored, but in this case we lose a lot of observations. also, depending on the data, you can replace the missing mean/median/mode data. a good option would be to predict the missing values or Using Algorithms Which Support Missing Values\n",
        "\n"
      ],
      "metadata": {
        "id": "DrhEI80uQWGS"
      }
    },
    {
      "cell_type": "markdown",
      "source": [
        "**C**"
      ],
      "metadata": {
        "id": "83dZQ5dVTbJb"
      }
    },
    {
      "cell_type": "code",
      "source": [
        "from sklearn.model_selection import GridSearchCV\n",
        "\n",
        "rfc = RandomForestClassifier(n_jobs=-1,max_features= 'outcome' ,n_estimators=50, oob_score = True) \n",
        "\n",
        "param_grid = {\n",
        "    'n_estimators': [200, 700],\n",
        "    'bootstrap': [True, False]\n",
        "}\n",
        "\n",
        "CV_rfc = GridSearchCV(estimator=rfc, param_grid=param_grid, cv= 5)\n",
        "\n",
        "print(CV_rfc.best_estimator_)"
      ],
      "metadata": {
        "id": "UtIYE97TZRCa"
      },
      "execution_count": null,
      "outputs": []
    }
  ],
  "metadata": {
    "colab": {
      "collapsed_sections": [],
      "name": "Untitled",
      "provenance": [],
      "authorship_tag": "ABX9TyNWh4BBYhhV7AgIpmND9hhS",
      "include_colab_link": true
    },
    "kernelspec": {
      "display_name": "Python 3",
      "name": "python3"
    },
    "language_info": {
      "name": "python"
    }
  },
  "nbformat": 4,
  "nbformat_minor": 0
}